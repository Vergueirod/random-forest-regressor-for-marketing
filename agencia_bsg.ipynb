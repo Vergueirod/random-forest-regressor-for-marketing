{
 "cells": [
  {
   "cell_type": "code",
   "execution_count": 2450,
   "id": "9049166f-fd8e-4c7d-8b29-1c2e154ff375",
   "metadata": {},
   "outputs": [],
   "source": [
    "import random\n",
    "import pandas as pd\n",
    "import seaborn as sns\n",
    "import numpy as np\n",
    "import chart_studio.plotly as py\n",
    "import cufflinks as cf\n",
    "import plotly.graph_objects as go\n",
    "import plotly.express as px"
   ]
  },
  {
   "cell_type": "code",
   "execution_count": 2452,
   "id": "689b96c2-7409-4a6c-aebf-03267b2e967a",
   "metadata": {},
   "outputs": [],
   "source": [
    "df = pd.read_csv('agencia_bsg.csv')"
   ]
  },
  {
   "cell_type": "code",
   "execution_count": 2454,
   "id": "6dec722f-f0d8-424d-8a2d-50141920c606",
   "metadata": {},
   "outputs": [
    {
     "data": {
      "text/html": [
       "<div>\n",
       "<style scoped>\n",
       "    .dataframe tbody tr th:only-of-type {\n",
       "        vertical-align: middle;\n",
       "    }\n",
       "\n",
       "    .dataframe tbody tr th {\n",
       "        vertical-align: top;\n",
       "    }\n",
       "\n",
       "    .dataframe thead th {\n",
       "        text-align: right;\n",
       "    }\n",
       "</style>\n",
       "<table border=\"1\" class=\"dataframe\">\n",
       "  <thead>\n",
       "    <tr style=\"text-align: right;\">\n",
       "      <th></th>\n",
       "      <th>youtube</th>\n",
       "      <th>facebook</th>\n",
       "      <th>newspaper</th>\n",
       "      <th>sales</th>\n",
       "    </tr>\n",
       "  </thead>\n",
       "  <tbody>\n",
       "    <tr>\n",
       "      <th>0</th>\n",
       "      <td>84.72</td>\n",
       "      <td>19.20</td>\n",
       "      <td>48.96</td>\n",
       "      <td>12.60</td>\n",
       "    </tr>\n",
       "    <tr>\n",
       "      <th>1</th>\n",
       "      <td>351.48</td>\n",
       "      <td>33.96</td>\n",
       "      <td>51.84</td>\n",
       "      <td>25.68</td>\n",
       "    </tr>\n",
       "    <tr>\n",
       "      <th>2</th>\n",
       "      <td>135.48</td>\n",
       "      <td>20.88</td>\n",
       "      <td>46.32</td>\n",
       "      <td>14.28</td>\n",
       "    </tr>\n",
       "    <tr>\n",
       "      <th>3</th>\n",
       "      <td>116.64</td>\n",
       "      <td>1.80</td>\n",
       "      <td>36.00</td>\n",
       "      <td>11.52</td>\n",
       "    </tr>\n",
       "    <tr>\n",
       "      <th>4</th>\n",
       "      <td>318.72</td>\n",
       "      <td>24.00</td>\n",
       "      <td>0.36</td>\n",
       "      <td>20.88</td>\n",
       "    </tr>\n",
       "  </tbody>\n",
       "</table>\n",
       "</div>"
      ],
      "text/plain": [
       "   youtube  facebook  newspaper  sales\n",
       "0    84.72     19.20      48.96  12.60\n",
       "1   351.48     33.96      51.84  25.68\n",
       "2   135.48     20.88      46.32  14.28\n",
       "3   116.64      1.80      36.00  11.52\n",
       "4   318.72     24.00       0.36  20.88"
      ]
     },
     "execution_count": 2454,
     "metadata": {},
     "output_type": "execute_result"
    }
   ],
   "source": [
    "df.head()"
   ]
  },
  {
   "cell_type": "code",
   "execution_count": 2456,
   "id": "3317e976-a1cc-4bf2-9bee-423b2ced5ae1",
   "metadata": {},
   "outputs": [
    {
     "name": "stdout",
     "output_type": "stream",
     "text": [
      "<class 'pandas.core.frame.DataFrame'>\n",
      "RangeIndex: 171 entries, 0 to 170\n",
      "Data columns (total 4 columns):\n",
      " #   Column     Non-Null Count  Dtype  \n",
      "---  ------     --------------  -----  \n",
      " 0   youtube    171 non-null    float64\n",
      " 1   facebook   171 non-null    float64\n",
      " 2   newspaper  171 non-null    float64\n",
      " 3   sales      171 non-null    float64\n",
      "dtypes: float64(4)\n",
      "memory usage: 5.5 KB\n"
     ]
    }
   ],
   "source": [
    "df.info()"
   ]
  },
  {
   "cell_type": "code",
   "execution_count": 2458,
   "id": "7282706a-9ae4-4ce7-b57a-f5fa8995766b",
   "metadata": {},
   "outputs": [
    {
     "data": {
      "text/plain": [
       "youtube      float64\n",
       "facebook     float64\n",
       "newspaper    float64\n",
       "sales        float64\n",
       "dtype: object"
      ]
     },
     "execution_count": 2458,
     "metadata": {},
     "output_type": "execute_result"
    }
   ],
   "source": [
    "df.dtypes"
   ]
  },
  {
   "cell_type": "code",
   "execution_count": 2460,
   "id": "5b69ddd9-48df-4e8d-8286-9bd797c725b3",
   "metadata": {},
   "outputs": [
    {
     "data": {
      "text/html": [
       "<div>\n",
       "<style scoped>\n",
       "    .dataframe tbody tr th:only-of-type {\n",
       "        vertical-align: middle;\n",
       "    }\n",
       "\n",
       "    .dataframe tbody tr th {\n",
       "        vertical-align: top;\n",
       "    }\n",
       "\n",
       "    .dataframe thead th {\n",
       "        text-align: right;\n",
       "    }\n",
       "</style>\n",
       "<table border=\"1\" class=\"dataframe\">\n",
       "  <thead>\n",
       "    <tr style=\"text-align: right;\">\n",
       "      <th></th>\n",
       "      <th>youtube</th>\n",
       "      <th>facebook</th>\n",
       "      <th>newspaper</th>\n",
       "      <th>sales</th>\n",
       "    </tr>\n",
       "  </thead>\n",
       "  <tbody>\n",
       "    <tr>\n",
       "      <th>count</th>\n",
       "      <td>171.000000</td>\n",
       "      <td>171.000000</td>\n",
       "      <td>171.000000</td>\n",
       "      <td>171.000000</td>\n",
       "    </tr>\n",
       "    <tr>\n",
       "      <th>mean</th>\n",
       "      <td>178.021053</td>\n",
       "      <td>27.671579</td>\n",
       "      <td>35.240000</td>\n",
       "      <td>16.922807</td>\n",
       "    </tr>\n",
       "    <tr>\n",
       "      <th>std</th>\n",
       "      <td>102.449597</td>\n",
       "      <td>17.913532</td>\n",
       "      <td>24.902918</td>\n",
       "      <td>6.314608</td>\n",
       "    </tr>\n",
       "    <tr>\n",
       "      <th>min</th>\n",
       "      <td>0.840000</td>\n",
       "      <td>0.000000</td>\n",
       "      <td>0.360000</td>\n",
       "      <td>1.920000</td>\n",
       "    </tr>\n",
       "    <tr>\n",
       "      <th>25%</th>\n",
       "      <td>91.080000</td>\n",
       "      <td>11.700000</td>\n",
       "      <td>13.740000</td>\n",
       "      <td>12.540000</td>\n",
       "    </tr>\n",
       "    <tr>\n",
       "      <th>50%</th>\n",
       "      <td>179.760000</td>\n",
       "      <td>26.760000</td>\n",
       "      <td>31.080000</td>\n",
       "      <td>15.480000</td>\n",
       "    </tr>\n",
       "    <tr>\n",
       "      <th>75%</th>\n",
       "      <td>262.980000</td>\n",
       "      <td>43.680000</td>\n",
       "      <td>50.880000</td>\n",
       "      <td>20.820000</td>\n",
       "    </tr>\n",
       "    <tr>\n",
       "      <th>max</th>\n",
       "      <td>355.680000</td>\n",
       "      <td>59.520000</td>\n",
       "      <td>121.080000</td>\n",
       "      <td>32.400000</td>\n",
       "    </tr>\n",
       "  </tbody>\n",
       "</table>\n",
       "</div>"
      ],
      "text/plain": [
       "          youtube    facebook   newspaper       sales\n",
       "count  171.000000  171.000000  171.000000  171.000000\n",
       "mean   178.021053   27.671579   35.240000   16.922807\n",
       "std    102.449597   17.913532   24.902918    6.314608\n",
       "min      0.840000    0.000000    0.360000    1.920000\n",
       "25%     91.080000   11.700000   13.740000   12.540000\n",
       "50%    179.760000   26.760000   31.080000   15.480000\n",
       "75%    262.980000   43.680000   50.880000   20.820000\n",
       "max    355.680000   59.520000  121.080000   32.400000"
      ]
     },
     "execution_count": 2460,
     "metadata": {},
     "output_type": "execute_result"
    }
   ],
   "source": [
    "df.describe()"
   ]
  },
  {
   "cell_type": "code",
   "execution_count": 2462,
   "id": "7fe0f104-7349-4226-97aa-11f28057c799",
   "metadata": {},
   "outputs": [
    {
     "data": {
      "image/png": "[encoded data removed]",
      "text/plain": [
       "<Figure size 1000x1000 with 20 Axes>"
      ]
     },
     "metadata": {},
     "output_type": "display_data"
    }
   ],
   "source": [
    "sns.pairplot(df);"
   ]
  },
  {
   "cell_type": "code",
   "execution_count": 2463,
   "id": "0ffce850-3941-42d6-9fd5-8b16436837d0",
   "metadata": {},
   "outputs": [
    {
     "data": {
      "image/png": "[encoded data removed]",
      "text/plain": [
       "<Figure size 750x250 with 3 Axes>"
      ]
     },
     "metadata": {},
     "output_type": "display_data"
    }
   ],
   "source": [
    "sns.pairplot(df, x_vars=['youtube','facebook','newspaper'], y_vars=\"sales\");"
   ]
  },
  {
   "cell_type": "code",
   "execution_count": 2466,
   "id": "47809eb7-f051-4e02-af03-726ff531acba",
   "metadata": {},
   "outputs": [
    {
     "data": {
      "text/html": [
       "<div>\n",
       "<style scoped>\n",
       "    .dataframe tbody tr th:only-of-type {\n",
       "        vertical-align: middle;\n",
       "    }\n",
       "\n",
       "    .dataframe tbody tr th {\n",
       "        vertical-align: top;\n",
       "    }\n",
       "\n",
       "    .dataframe thead th {\n",
       "        text-align: right;\n",
       "    }\n",
       "</style>\n",
       "<table border=\"1\" class=\"dataframe\">\n",
       "  <thead>\n",
       "    <tr style=\"text-align: right;\">\n",
       "      <th></th>\n",
       "      <th>youtube</th>\n",
       "      <th>facebook</th>\n",
       "      <th>newspaper</th>\n",
       "      <th>sales</th>\n",
       "    </tr>\n",
       "  </thead>\n",
       "  <tbody>\n",
       "    <tr>\n",
       "      <th>youtube</th>\n",
       "      <td>1.000000</td>\n",
       "      <td>0.086538</td>\n",
       "      <td>0.110759</td>\n",
       "      <td>0.782030</td>\n",
       "    </tr>\n",
       "    <tr>\n",
       "      <th>facebook</th>\n",
       "      <td>0.086538</td>\n",
       "      <td>1.000000</td>\n",
       "      <td>0.293425</td>\n",
       "      <td>0.602918</td>\n",
       "    </tr>\n",
       "    <tr>\n",
       "      <th>newspaper</th>\n",
       "      <td>0.110759</td>\n",
       "      <td>0.293425</td>\n",
       "      <td>1.000000</td>\n",
       "      <td>0.254987</td>\n",
       "    </tr>\n",
       "    <tr>\n",
       "      <th>sales</th>\n",
       "      <td>0.782030</td>\n",
       "      <td>0.602918</td>\n",
       "      <td>0.254987</td>\n",
       "      <td>1.000000</td>\n",
       "    </tr>\n",
       "  </tbody>\n",
       "</table>\n",
       "</div>"
      ],
      "text/plain": [
       "            youtube  facebook  newspaper     sales\n",
       "youtube    1.000000  0.086538   0.110759  0.782030\n",
       "facebook   0.086538  1.000000   0.293425  0.602918\n",
       "newspaper  0.110759  0.293425   1.000000  0.254987\n",
       "sales      0.782030  0.602918   0.254987  1.000000"
      ]
     },
     "execution_count": 2466,
     "metadata": {},
     "output_type": "execute_result"
    }
   ],
   "source": [
    "df.corr()"
   ]
  },
  {
   "cell_type": "code",
   "execution_count": 2468,
   "id": "511e6552-a0c0-4eb8-9de7-2a8bcab2333b",
   "metadata": {},
   "outputs": [
    {
     "data": {
      "image/png": "[encoded data removed]",
      "text/plain": [
       "<Figure size 640x480 with 2 Axes>"
      ]
     },
     "metadata": {},
     "output_type": "display_data"
    }
   ],
   "source": [
    "sns.heatmap(df.corr(), annot=True);"
   ]
  },
  {
   "cell_type": "markdown",
   "id": "765246bf-f966-4263-a764-7ec46148ad3d",
   "metadata": {},
   "source": [
    "## Construindo novos datasets para deixar o projeto mais robusto"
   ]
  },
  {
   "cell_type": "markdown",
   "id": "57a5a94c-4f43-4274-8929-084686d1550b",
   "metadata": {},
   "source": [
    "1 - Canais de investimentos"
   ]
  },
  {
   "cell_type": "code",
   "execution_count": 2486,
   "id": "b02de0ac-4dc4-472e-875e-b3566145b56c",
   "metadata": {},
   "outputs": [],
   "source": [
    "np.random.seed(42)\n",
    "n = 50000\n",
    "\n",
    "data = {\n",
    "    \"youtube investment\": np.random.normal(300, 200, n).clip(0),\n",
    "    \"youtube_conversion\": np.random.normal(2, 4, n).clip(0),\n",
    "    \"instagram_Investiment\": np.random.normal(150, 10, n).clip(0) ,\n",
    "    \"instagram_conversion\": np.random.normal(1, 3, n).clip(0),\n",
    "    \"GOOGLE\": np.random.exponential(100, n),\n",
    "    \"google_conversion\": np.random.normal(1, 8, n).clip(0),\n",
    "    \"newspaper investment\": np.random.normal(50, 20, n).clip(0),\n",
    "    \"newspaper_conversion\": np.random.normal(1, 8, n).clip(0),\n",
    "}\n"
   ]
  },
  {
   "cell_type": "code",
   "execution_count": 2488,
   "id": "4e0f26fd-6c70-4a08-8093-d96979fedddb",
   "metadata": {},
   "outputs": [],
   "source": [
    "df_investments = pd.DataFrame(data)"
   ]
  },
  {
   "cell_type": "code",
   "execution_count": 2490,
   "id": "651c3a92-9e9f-4544-9206-cebb91dc8a26",
   "metadata": {},
   "outputs": [
    {
     "data": {
      "text/html": [
       "<div>\n",
       "<style scoped>\n",
       "    .dataframe tbody tr th:only-of-type {\n",
       "        vertical-align: middle;\n",
       "    }\n",
       "\n",
       "    .dataframe tbody tr th {\n",
       "        vertical-align: top;\n",
       "    }\n",
       "\n",
       "    .dataframe thead th {\n",
       "        text-align: right;\n",
       "    }\n",
       "</style>\n",
       "<table border=\"1\" class=\"dataframe\">\n",
       "  <thead>\n",
       "    <tr style=\"text-align: right;\">\n",
       "      <th></th>\n",
       "      <th>youtube investment</th>\n",
       "      <th>youtube_conversion</th>\n",
       "      <th>instagram_Investiment</th>\n",
       "      <th>instagram_conversion</th>\n",
       "      <th>GOOGLE</th>\n",
       "      <th>google_conversion</th>\n",
       "      <th>newspaper investment</th>\n",
       "      <th>newspaper_conversion</th>\n",
       "    </tr>\n",
       "  </thead>\n",
       "  <tbody>\n",
       "    <tr>\n",
       "      <th>0</th>\n",
       "      <td>399.342831</td>\n",
       "      <td>2.392825</td>\n",
       "      <td>160.305946</td>\n",
       "      <td>5.109634</td>\n",
       "      <td>66.101451</td>\n",
       "      <td>4.059701</td>\n",
       "      <td>56.529545</td>\n",
       "      <td>4.898237</td>\n",
       "    </tr>\n",
       "    <tr>\n",
       "      <th>1</th>\n",
       "      <td>272.347140</td>\n",
       "      <td>1.743567</td>\n",
       "      <td>138.446452</td>\n",
       "      <td>0.675205</td>\n",
       "      <td>147.239825</td>\n",
       "      <td>0.000000</td>\n",
       "      <td>77.592848</td>\n",
       "      <td>7.682681</td>\n",
       "    </tr>\n",
       "    <tr>\n",
       "      <th>2</th>\n",
       "      <td>429.537708</td>\n",
       "      <td>5.807163</td>\n",
       "      <td>155.754372</td>\n",
       "      <td>0.000000</td>\n",
       "      <td>448.582161</td>\n",
       "      <td>9.263244</td>\n",
       "      <td>7.059979</td>\n",
       "      <td>0.000000</td>\n",
       "    </tr>\n",
       "    <tr>\n",
       "      <th>3</th>\n",
       "      <td>604.605971</td>\n",
       "      <td>8.131325</td>\n",
       "      <td>143.807615</td>\n",
       "      <td>5.175882</td>\n",
       "      <td>293.582448</td>\n",
       "      <td>0.000000</td>\n",
       "      <td>108.390371</td>\n",
       "      <td>6.517140</td>\n",
       "    </tr>\n",
       "    <tr>\n",
       "      <th>4</th>\n",
       "      <td>253.169325</td>\n",
       "      <td>4.747388</td>\n",
       "      <td>146.725972</td>\n",
       "      <td>0.660470</td>\n",
       "      <td>44.106098</td>\n",
       "      <td>11.368436</td>\n",
       "      <td>31.623392</td>\n",
       "      <td>0.000000</td>\n",
       "    </tr>\n",
       "  </tbody>\n",
       "</table>\n",
       "</div>"
      ],
      "text/plain": [
       "   youtube investment  youtube_conversion  instagram_Investiment  \\\n",
       "0          399.342831            2.392825             160.305946   \n",
       "1          272.347140            1.743567             138.446452   \n",
       "2          429.537708            5.807163             155.754372   \n",
       "3          604.605971            8.131325             143.807615   \n",
       "4          253.169325            4.747388             146.725972   \n",
       "\n",
       "   instagram_conversion      GOOGLE  google_conversion  newspaper investment  \\\n",
       "0              5.109634   66.101451           4.059701             56.529545   \n",
       "1              0.675205  147.239825           0.000000             77.592848   \n",
       "2              0.000000  448.582161           9.263244              7.059979   \n",
       "3              5.175882  293.582448           0.000000            108.390371   \n",
       "4              0.660470   44.106098          11.368436             31.623392   \n",
       "\n",
       "   newspaper_conversion  \n",
       "0              4.898237  \n",
       "1              7.682681  \n",
       "2              0.000000  \n",
       "3              6.517140  \n",
       "4              0.000000  "
      ]
     },
     "execution_count": 2490,
     "metadata": {},
     "output_type": "execute_result"
    }
   ],
   "source": [
    "df_investments.head()"
   ]
  },
  {
   "cell_type": "code",
   "execution_count": 2524,
   "id": "731bf729-8005-40f2-bef1-8abd83715057",
   "metadata": {},
   "outputs": [],
   "source": [
    "df_investments = df_investments.rename(columns = {\n",
    "    \"youtube investment\":\"youtube_investment\",\n",
    "    \"GOOGLE\":\"google_investment\",\n",
    "    \"newspaper investment\":\"newspaper_investment\",\n",
    "    \"instagram_Investiment\":\"instagram_investment\"\n",
    "})"
   ]
  },
  {
   "cell_type": "code",
   "execution_count": 2526,
   "id": "190ba46b-532e-4c85-8302-f4fe40a70e22",
   "metadata": {},
   "outputs": [
    {
     "data": {
      "text/html": [
       "<div>\n",
       "<style scoped>\n",
       "    .dataframe tbody tr th:only-of-type {\n",
       "        vertical-align: middle;\n",
       "    }\n",
       "\n",
       "    .dataframe tbody tr th {\n",
       "        vertical-align: top;\n",
       "    }\n",
       "\n",
       "    .dataframe thead th {\n",
       "        text-align: right;\n",
       "    }\n",
       "</style>\n",
       "<table border=\"1\" class=\"dataframe\">\n",
       "  <thead>\n",
       "    <tr style=\"text-align: right;\">\n",
       "      <th></th>\n",
       "      <th>youtube_investment</th>\n",
       "      <th>youtube_conversion</th>\n",
       "      <th>instagram_investment</th>\n",
       "      <th>instagram_conversion</th>\n",
       "      <th>google_investment</th>\n",
       "      <th>google_conversion</th>\n",
       "      <th>newspaper_investment</th>\n",
       "      <th>newspaper_conversion</th>\n",
       "      <th>youtube_sales</th>\n",
       "      <th>instagram_sales</th>\n",
       "      <th>google_sales</th>\n",
       "      <th>newspaper_sales</th>\n",
       "      <th>total_sales</th>\n",
       "    </tr>\n",
       "  </thead>\n",
       "  <tbody>\n",
       "    <tr>\n",
       "      <th>0</th>\n",
       "      <td>399.342831</td>\n",
       "      <td>2</td>\n",
       "      <td>160.305946</td>\n",
       "      <td>5</td>\n",
       "      <td>66.101451</td>\n",
       "      <td>4</td>\n",
       "      <td>56.529545</td>\n",
       "      <td>4</td>\n",
       "      <td>194.0</td>\n",
       "      <td>485.0</td>\n",
       "      <td>388.0</td>\n",
       "      <td>388.0</td>\n",
       "      <td>1455.0</td>\n",
       "    </tr>\n",
       "    <tr>\n",
       "      <th>1</th>\n",
       "      <td>272.347140</td>\n",
       "      <td>1</td>\n",
       "      <td>138.446452</td>\n",
       "      <td>0</td>\n",
       "      <td>147.239825</td>\n",
       "      <td>0</td>\n",
       "      <td>77.592848</td>\n",
       "      <td>7</td>\n",
       "      <td>97.0</td>\n",
       "      <td>0.0</td>\n",
       "      <td>0.0</td>\n",
       "      <td>679.0</td>\n",
       "      <td>776.0</td>\n",
       "    </tr>\n",
       "    <tr>\n",
       "      <th>2</th>\n",
       "      <td>429.537708</td>\n",
       "      <td>5</td>\n",
       "      <td>155.754372</td>\n",
       "      <td>0</td>\n",
       "      <td>448.582161</td>\n",
       "      <td>9</td>\n",
       "      <td>7.059979</td>\n",
       "      <td>0</td>\n",
       "      <td>485.0</td>\n",
       "      <td>0.0</td>\n",
       "      <td>873.0</td>\n",
       "      <td>0.0</td>\n",
       "      <td>1358.0</td>\n",
       "    </tr>\n",
       "    <tr>\n",
       "      <th>3</th>\n",
       "      <td>604.605971</td>\n",
       "      <td>8</td>\n",
       "      <td>143.807615</td>\n",
       "      <td>5</td>\n",
       "      <td>293.582448</td>\n",
       "      <td>0</td>\n",
       "      <td>108.390371</td>\n",
       "      <td>6</td>\n",
       "      <td>776.0</td>\n",
       "      <td>485.0</td>\n",
       "      <td>0.0</td>\n",
       "      <td>582.0</td>\n",
       "      <td>1843.0</td>\n",
       "    </tr>\n",
       "    <tr>\n",
       "      <th>4</th>\n",
       "      <td>253.169325</td>\n",
       "      <td>4</td>\n",
       "      <td>146.725972</td>\n",
       "      <td>0</td>\n",
       "      <td>44.106098</td>\n",
       "      <td>11</td>\n",
       "      <td>31.623392</td>\n",
       "      <td>0</td>\n",
       "      <td>388.0</td>\n",
       "      <td>0.0</td>\n",
       "      <td>1067.0</td>\n",
       "      <td>0.0</td>\n",
       "      <td>1455.0</td>\n",
       "    </tr>\n",
       "  </tbody>\n",
       "</table>\n",
       "</div>"
      ],
      "text/plain": [
       "   youtube_investment  youtube_conversion  instagram_investment  \\\n",
       "0          399.342831                   2            160.305946   \n",
       "1          272.347140                   1            138.446452   \n",
       "2          429.537708                   5            155.754372   \n",
       "3          604.605971                   8            143.807615   \n",
       "4          253.169325                   4            146.725972   \n",
       "\n",
       "   instagram_conversion  google_investment  google_conversion  \\\n",
       "0                     5          66.101451                  4   \n",
       "1                     0         147.239825                  0   \n",
       "2                     0         448.582161                  9   \n",
       "3                     5         293.582448                  0   \n",
       "4                     0          44.106098                 11   \n",
       "\n",
       "   newspaper_investment  newspaper_conversion  youtube_sales  instagram_sales  \\\n",
       "0             56.529545                     4          194.0            485.0   \n",
       "1             77.592848                     7           97.0              0.0   \n",
       "2              7.059979                     0          485.0              0.0   \n",
       "3            108.390371                     6          776.0            485.0   \n",
       "4             31.623392                     0          388.0              0.0   \n",
       "\n",
       "   google_sales  newspaper_sales  total_sales  \n",
       "0         388.0            388.0       1455.0  \n",
       "1           0.0            679.0        776.0  \n",
       "2         873.0              0.0       1358.0  \n",
       "3           0.0            582.0       1843.0  \n",
       "4        1067.0              0.0       1455.0  "
      ]
     },
     "execution_count": 2526,
     "metadata": {},
     "output_type": "execute_result"
    }
   ],
   "source": [
    "df_investments.head()"
   ]
  },
  {
   "cell_type": "code",
   "execution_count": 2528,
   "id": "f3434aac-6761-4381-9f8d-27e97e1eca13",
   "metadata": {},
   "outputs": [
    {
     "name": "stdout",
     "output_type": "stream",
     "text": [
      "<class 'pandas.core.frame.DataFrame'>\n",
      "RangeIndex: 50000 entries, 0 to 49999\n",
      "Data columns (total 13 columns):\n",
      " #   Column                Non-Null Count  Dtype  \n",
      "---  ------                --------------  -----  \n",
      " 0   youtube_investment    50000 non-null  float64\n",
      " 1   youtube_conversion    50000 non-null  int64  \n",
      " 2   instagram_investment  50000 non-null  float64\n",
      " 3   instagram_conversion  50000 non-null  int64  \n",
      " 4   google_investment     50000 non-null  float64\n",
      " 5   google_conversion     50000 non-null  int64  \n",
      " 6   newspaper_investment  50000 non-null  float64\n",
      " 7   newspaper_conversion  50000 non-null  int64  \n",
      " 8   youtube_sales         50000 non-null  float64\n",
      " 9   instagram_sales       50000 non-null  float64\n",
      " 10  google_sales          50000 non-null  float64\n",
      " 11  newspaper_sales       50000 non-null  float64\n",
      " 12  total_sales           50000 non-null  float64\n",
      "dtypes: float64(9), int64(4)\n",
      "memory usage: 5.0 MB\n"
     ]
    }
   ],
   "source": [
    "df_investments.info()"
   ]
  },
  {
   "cell_type": "code",
   "execution_count": 2530,
   "id": "e730845b-1184-4cdc-a2ba-e282fa854ba5",
   "metadata": {},
   "outputs": [],
   "source": [
    "df_investments = df_investments.astype({\n",
    "    \"youtube_conversion\":\"int64\",\n",
    "    \"instagram_conversion\":\"int64\",\n",
    "    \"google_conversion\":\"int64\",\n",
    "    \"newspaper_conversion\":\"int64\",\n",
    "})"
   ]
  },
  {
   "cell_type": "code",
   "execution_count": 2532,
   "id": "84f9e5f3-4f3a-4194-ac0c-b2c8ff4aa980",
   "metadata": {},
   "outputs": [
    {
     "name": "stdout",
     "output_type": "stream",
     "text": [
      "<class 'pandas.core.frame.DataFrame'>\n",
      "RangeIndex: 50000 entries, 0 to 49999\n",
      "Data columns (total 13 columns):\n",
      " #   Column                Non-Null Count  Dtype  \n",
      "---  ------                --------------  -----  \n",
      " 0   youtube_investment    50000 non-null  float64\n",
      " 1   youtube_conversion    50000 non-null  int64  \n",
      " 2   instagram_investment  50000 non-null  float64\n",
      " 3   instagram_conversion  50000 non-null  int64  \n",
      " 4   google_investment     50000 non-null  float64\n",
      " 5   google_conversion     50000 non-null  int64  \n",
      " 6   newspaper_investment  50000 non-null  float64\n",
      " 7   newspaper_conversion  50000 non-null  int64  \n",
      " 8   youtube_sales         50000 non-null  float64\n",
      " 9   instagram_sales       50000 non-null  float64\n",
      " 10  google_sales          50000 non-null  float64\n",
      " 11  newspaper_sales       50000 non-null  float64\n",
      " 12  total_sales           50000 non-null  float64\n",
      "dtypes: float64(9), int64(4)\n",
      "memory usage: 5.0 MB\n"
     ]
    }
   ],
   "source": [
    "df_investments.info()"
   ]
  },
  {
   "cell_type": "code",
   "execution_count": 2534,
   "id": "95edac9f-fd92-4fa2-8ffc-0a4ba04dbe29",
   "metadata": {},
   "outputs": [
    {
     "data": {
      "text/plain": [
       "youtube_investment      float64\n",
       "youtube_conversion        int64\n",
       "instagram_investment    float64\n",
       "instagram_conversion      int64\n",
       "google_investment       float64\n",
       "google_conversion         int64\n",
       "newspaper_investment    float64\n",
       "newspaper_conversion      int64\n",
       "youtube_sales           float64\n",
       "instagram_sales         float64\n",
       "google_sales            float64\n",
       "newspaper_sales         float64\n",
       "total_sales             float64\n",
       "dtype: object"
      ]
     },
     "execution_count": 2534,
     "metadata": {},
     "output_type": "execute_result"
    }
   ],
   "source": [
    "df_investments.dtypes"
   ]
  },
  {
   "cell_type": "code",
   "execution_count": 2536,
   "id": "c91f0e2a-8c54-4aca-be9b-a08ec10aecef",
   "metadata": {},
   "outputs": [],
   "source": [
    "df_investments['youtube_sales'] = df_investiments['youtube_conversion'] * 97.00\n",
    "df_investments['instagram_sales'] = df_investiments['instagram_conversion'] * 97.00\n",
    "df_investments['google_sales'] = df_investiments['google_conversion'] * 97.00\n",
    "df_investments['newspaper_sales'] = df_investiments['newspaper_conversion'] * 97.00"
   ]
  },
  {
   "cell_type": "code",
   "execution_count": 2538,
   "id": "8120f1e4-867d-4b56-b173-d23db71edf4b",
   "metadata": {},
   "outputs": [
    {
     "data": {
      "text/html": [
       "<div>\n",
       "<style scoped>\n",
       "    .dataframe tbody tr th:only-of-type {\n",
       "        vertical-align: middle;\n",
       "    }\n",
       "\n",
       "    .dataframe tbody tr th {\n",
       "        vertical-align: top;\n",
       "    }\n",
       "\n",
       "    .dataframe thead th {\n",
       "        text-align: right;\n",
       "    }\n",
       "</style>\n",
       "<table border=\"1\" class=\"dataframe\">\n",
       "  <thead>\n",
       "    <tr style=\"text-align: right;\">\n",
       "      <th></th>\n",
       "      <th>youtube_investment</th>\n",
       "      <th>youtube_conversion</th>\n",
       "      <th>instagram_investment</th>\n",
       "      <th>instagram_conversion</th>\n",
       "      <th>google_investment</th>\n",
       "      <th>google_conversion</th>\n",
       "      <th>newspaper_investment</th>\n",
       "      <th>newspaper_conversion</th>\n",
       "      <th>youtube_sales</th>\n",
       "      <th>instagram_sales</th>\n",
       "      <th>google_sales</th>\n",
       "      <th>newspaper_sales</th>\n",
       "      <th>total_sales</th>\n",
       "    </tr>\n",
       "  </thead>\n",
       "  <tbody>\n",
       "    <tr>\n",
       "      <th>0</th>\n",
       "      <td>399.342831</td>\n",
       "      <td>2</td>\n",
       "      <td>160.305946</td>\n",
       "      <td>5</td>\n",
       "      <td>66.101451</td>\n",
       "      <td>4</td>\n",
       "      <td>56.529545</td>\n",
       "      <td>4</td>\n",
       "      <td>194.0</td>\n",
       "      <td>485.0</td>\n",
       "      <td>388.0</td>\n",
       "      <td>388.0</td>\n",
       "      <td>1455.0</td>\n",
       "    </tr>\n",
       "    <tr>\n",
       "      <th>1</th>\n",
       "      <td>272.347140</td>\n",
       "      <td>1</td>\n",
       "      <td>138.446452</td>\n",
       "      <td>0</td>\n",
       "      <td>147.239825</td>\n",
       "      <td>0</td>\n",
       "      <td>77.592848</td>\n",
       "      <td>7</td>\n",
       "      <td>97.0</td>\n",
       "      <td>0.0</td>\n",
       "      <td>0.0</td>\n",
       "      <td>679.0</td>\n",
       "      <td>776.0</td>\n",
       "    </tr>\n",
       "    <tr>\n",
       "      <th>2</th>\n",
       "      <td>429.537708</td>\n",
       "      <td>5</td>\n",
       "      <td>155.754372</td>\n",
       "      <td>0</td>\n",
       "      <td>448.582161</td>\n",
       "      <td>9</td>\n",
       "      <td>7.059979</td>\n",
       "      <td>0</td>\n",
       "      <td>485.0</td>\n",
       "      <td>0.0</td>\n",
       "      <td>873.0</td>\n",
       "      <td>0.0</td>\n",
       "      <td>1358.0</td>\n",
       "    </tr>\n",
       "    <tr>\n",
       "      <th>3</th>\n",
       "      <td>604.605971</td>\n",
       "      <td>8</td>\n",
       "      <td>143.807615</td>\n",
       "      <td>5</td>\n",
       "      <td>293.582448</td>\n",
       "      <td>0</td>\n",
       "      <td>108.390371</td>\n",
       "      <td>6</td>\n",
       "      <td>776.0</td>\n",
       "      <td>485.0</td>\n",
       "      <td>0.0</td>\n",
       "      <td>582.0</td>\n",
       "      <td>1843.0</td>\n",
       "    </tr>\n",
       "    <tr>\n",
       "      <th>4</th>\n",
       "      <td>253.169325</td>\n",
       "      <td>4</td>\n",
       "      <td>146.725972</td>\n",
       "      <td>0</td>\n",
       "      <td>44.106098</td>\n",
       "      <td>11</td>\n",
       "      <td>31.623392</td>\n",
       "      <td>0</td>\n",
       "      <td>388.0</td>\n",
       "      <td>0.0</td>\n",
       "      <td>1067.0</td>\n",
       "      <td>0.0</td>\n",
       "      <td>1455.0</td>\n",
       "    </tr>\n",
       "  </tbody>\n",
       "</table>\n",
       "</div>"
      ],
      "text/plain": [
       "   youtube_investment  youtube_conversion  instagram_investment  \\\n",
       "0          399.342831                   2            160.305946   \n",
       "1          272.347140                   1            138.446452   \n",
       "2          429.537708                   5            155.754372   \n",
       "3          604.605971                   8            143.807615   \n",
       "4          253.169325                   4            146.725972   \n",
       "\n",
       "   instagram_conversion  google_investment  google_conversion  \\\n",
       "0                     5          66.101451                  4   \n",
       "1                     0         147.239825                  0   \n",
       "2                     0         448.582161                  9   \n",
       "3                     5         293.582448                  0   \n",
       "4                     0          44.106098                 11   \n",
       "\n",
       "   newspaper_investment  newspaper_conversion  youtube_sales  instagram_sales  \\\n",
       "0             56.529545                     4          194.0            485.0   \n",
       "1             77.592848                     7           97.0              0.0   \n",
       "2              7.059979                     0          485.0              0.0   \n",
       "3            108.390371                     6          776.0            485.0   \n",
       "4             31.623392                     0          388.0              0.0   \n",
       "\n",
       "   google_sales  newspaper_sales  total_sales  \n",
       "0         388.0            388.0       1455.0  \n",
       "1           0.0            679.0        776.0  \n",
       "2         873.0              0.0       1358.0  \n",
       "3           0.0            582.0       1843.0  \n",
       "4        1067.0              0.0       1455.0  "
      ]
     },
     "execution_count": 2538,
     "metadata": {},
     "output_type": "execute_result"
    }
   ],
   "source": [
    "df_investments.head()"
   ]
  },
  {
   "cell_type": "code",
   "execution_count": 2540,
   "id": "f89e315a-1b99-4b94-80c3-d87c523566d9",
   "metadata": {},
   "outputs": [
    {
     "data": {
      "text/html": [
       "<div>\n",
       "<style scoped>\n",
       "    .dataframe tbody tr th:only-of-type {\n",
       "        vertical-align: middle;\n",
       "    }\n",
       "\n",
       "    .dataframe tbody tr th {\n",
       "        vertical-align: top;\n",
       "    }\n",
       "\n",
       "    .dataframe thead th {\n",
       "        text-align: right;\n",
       "    }\n",
       "</style>\n",
       "<table border=\"1\" class=\"dataframe\">\n",
       "  <thead>\n",
       "    <tr style=\"text-align: right;\">\n",
       "      <th></th>\n",
       "      <th>youtube_investment</th>\n",
       "      <th>youtube_conversion</th>\n",
       "      <th>instagram_investment</th>\n",
       "      <th>instagram_conversion</th>\n",
       "      <th>google_investment</th>\n",
       "      <th>google_conversion</th>\n",
       "      <th>newspaper_investment</th>\n",
       "      <th>newspaper_conversion</th>\n",
       "      <th>youtube_sales</th>\n",
       "      <th>instagram_sales</th>\n",
       "      <th>google_sales</th>\n",
       "      <th>newspaper_sales</th>\n",
       "      <th>total_sales</th>\n",
       "    </tr>\n",
       "  </thead>\n",
       "  <tbody>\n",
       "    <tr>\n",
       "      <th>count</th>\n",
       "      <td>50000.000000</td>\n",
       "      <td>50000.000000</td>\n",
       "      <td>50000.000000</td>\n",
       "      <td>50000.00000</td>\n",
       "      <td>50000.000000</td>\n",
       "      <td>50000.000000</td>\n",
       "      <td>50000.000000</td>\n",
       "      <td>50000.000000</td>\n",
       "      <td>50000.000000</td>\n",
       "      <td>50000.000000</td>\n",
       "      <td>50000.000000</td>\n",
       "      <td>50000.000000</td>\n",
       "      <td>50000.000000</td>\n",
       "    </tr>\n",
       "    <tr>\n",
       "      <th>mean</th>\n",
       "      <td>305.808349</td>\n",
       "      <td>2.462240</td>\n",
       "      <td>150.035700</td>\n",
       "      <td>1.45252</td>\n",
       "      <td>100.264952</td>\n",
       "      <td>3.441680</td>\n",
       "      <td>49.912000</td>\n",
       "      <td>3.483380</td>\n",
       "      <td>238.837280</td>\n",
       "      <td>140.894440</td>\n",
       "      <td>333.842960</td>\n",
       "      <td>337.887860</td>\n",
       "      <td>1051.462540</td>\n",
       "    </tr>\n",
       "    <tr>\n",
       "      <th>std</th>\n",
       "      <td>188.420337</td>\n",
       "      <td>2.848883</td>\n",
       "      <td>9.995761</td>\n",
       "      <td>1.93085</td>\n",
       "      <td>100.227898</td>\n",
       "      <td>4.855664</td>\n",
       "      <td>19.897118</td>\n",
       "      <td>4.870901</td>\n",
       "      <td>276.341688</td>\n",
       "      <td>187.292412</td>\n",
       "      <td>470.999382</td>\n",
       "      <td>472.477414</td>\n",
       "      <td>744.642036</td>\n",
       "    </tr>\n",
       "    <tr>\n",
       "      <th>min</th>\n",
       "      <td>0.000000</td>\n",
       "      <td>0.000000</td>\n",
       "      <td>110.006678</td>\n",
       "      <td>0.00000</td>\n",
       "      <td>0.000849</td>\n",
       "      <td>0.000000</td>\n",
       "      <td>0.000000</td>\n",
       "      <td>0.000000</td>\n",
       "      <td>0.000000</td>\n",
       "      <td>0.000000</td>\n",
       "      <td>0.000000</td>\n",
       "      <td>0.000000</td>\n",
       "      <td>0.000000</td>\n",
       "    </tr>\n",
       "    <tr>\n",
       "      <th>25%</th>\n",
       "      <td>164.274958</td>\n",
       "      <td>0.000000</td>\n",
       "      <td>143.283809</td>\n",
       "      <td>0.00000</td>\n",
       "      <td>29.022183</td>\n",
       "      <td>0.000000</td>\n",
       "      <td>36.406184</td>\n",
       "      <td>0.000000</td>\n",
       "      <td>0.000000</td>\n",
       "      <td>0.000000</td>\n",
       "      <td>0.000000</td>\n",
       "      <td>0.000000</td>\n",
       "      <td>485.000000</td>\n",
       "    </tr>\n",
       "    <tr>\n",
       "      <th>50%</th>\n",
       "      <td>300.347880</td>\n",
       "      <td>2.000000</td>\n",
       "      <td>150.031235</td>\n",
       "      <td>0.00000</td>\n",
       "      <td>69.749003</td>\n",
       "      <td>0.000000</td>\n",
       "      <td>49.830258</td>\n",
       "      <td>1.000000</td>\n",
       "      <td>194.000000</td>\n",
       "      <td>0.000000</td>\n",
       "      <td>0.000000</td>\n",
       "      <td>97.000000</td>\n",
       "      <td>970.000000</td>\n",
       "    </tr>\n",
       "    <tr>\n",
       "      <th>75%</th>\n",
       "      <td>435.412069</td>\n",
       "      <td>4.000000</td>\n",
       "      <td>156.780928</td>\n",
       "      <td>3.00000</td>\n",
       "      <td>138.951870</td>\n",
       "      <td>6.000000</td>\n",
       "      <td>63.298085</td>\n",
       "      <td>6.000000</td>\n",
       "      <td>388.000000</td>\n",
       "      <td>291.000000</td>\n",
       "      <td>582.000000</td>\n",
       "      <td>582.000000</td>\n",
       "      <td>1552.000000</td>\n",
       "    </tr>\n",
       "    <tr>\n",
       "      <th>max</th>\n",
       "      <td>1195.816850</td>\n",
       "      <td>17.000000</td>\n",
       "      <td>195.621147</td>\n",
       "      <td>12.00000</td>\n",
       "      <td>952.748984</td>\n",
       "      <td>34.000000</td>\n",
       "      <td>128.363700</td>\n",
       "      <td>31.000000</td>\n",
       "      <td>1649.000000</td>\n",
       "      <td>1164.000000</td>\n",
       "      <td>3298.000000</td>\n",
       "      <td>3007.000000</td>\n",
       "      <td>5141.000000</td>\n",
       "    </tr>\n",
       "  </tbody>\n",
       "</table>\n",
       "</div>"
      ],
      "text/plain": [
       "       youtube_investment  youtube_conversion  instagram_investment  \\\n",
       "count        50000.000000        50000.000000          50000.000000   \n",
       "mean           305.808349            2.462240            150.035700   \n",
       "std            188.420337            2.848883              9.995761   \n",
       "min              0.000000            0.000000            110.006678   \n",
       "25%            164.274958            0.000000            143.283809   \n",
       "50%            300.347880            2.000000            150.031235   \n",
       "75%            435.412069            4.000000            156.780928   \n",
       "max           1195.816850           17.000000            195.621147   \n",
       "\n",
       "       instagram_conversion  google_investment  google_conversion  \\\n",
       "count           50000.00000       50000.000000       50000.000000   \n",
       "mean                1.45252         100.264952           3.441680   \n",
       "std                 1.93085         100.227898           4.855664   \n",
       "min                 0.00000           0.000849           0.000000   \n",
       "25%                 0.00000          29.022183           0.000000   \n",
       "50%                 0.00000          69.749003           0.000000   \n",
       "75%                 3.00000         138.951870           6.000000   \n",
       "max                12.00000         952.748984          34.000000   \n",
       "\n",
       "       newspaper_investment  newspaper_conversion  youtube_sales  \\\n",
       "count          50000.000000          50000.000000   50000.000000   \n",
       "mean              49.912000              3.483380     238.837280   \n",
       "std               19.897118              4.870901     276.341688   \n",
       "min                0.000000              0.000000       0.000000   \n",
       "25%               36.406184              0.000000       0.000000   \n",
       "50%               49.830258              1.000000     194.000000   \n",
       "75%               63.298085              6.000000     388.000000   \n",
       "max              128.363700             31.000000    1649.000000   \n",
       "\n",
       "       instagram_sales  google_sales  newspaper_sales   total_sales  \n",
       "count     50000.000000  50000.000000     50000.000000  50000.000000  \n",
       "mean        140.894440    333.842960       337.887860   1051.462540  \n",
       "std         187.292412    470.999382       472.477414    744.642036  \n",
       "min           0.000000      0.000000         0.000000      0.000000  \n",
       "25%           0.000000      0.000000         0.000000    485.000000  \n",
       "50%           0.000000      0.000000        97.000000    970.000000  \n",
       "75%         291.000000    582.000000       582.000000   1552.000000  \n",
       "max        1164.000000   3298.000000      3007.000000   5141.000000  "
      ]
     },
     "execution_count": 2540,
     "metadata": {},
     "output_type": "execute_result"
    }
   ],
   "source": [
    "df_investments.describe()"
   ]
  },
  {
   "cell_type": "code",
   "execution_count": 2542,
   "id": "2fefdeb2-8c55-4655-bb53-d698fd9980ef",
   "metadata": {},
   "outputs": [],
   "source": [
    "df_investments['total_sales'] = df_investments['youtube_sales'] + df_investments['instagram_sales'] + df_investments['google_sales'] + df_investments['newspaper_sales']"
   ]
  },
  {
   "cell_type": "code",
   "execution_count": 2544,
   "id": "456e10b8-5afa-408e-8182-e1d8fde9ecbe",
   "metadata": {},
   "outputs": [
    {
     "data": {
      "text/html": [
       "<div>\n",
       "<style scoped>\n",
       "    .dataframe tbody tr th:only-of-type {\n",
       "        vertical-align: middle;\n",
       "    }\n",
       "\n",
       "    .dataframe tbody tr th {\n",
       "        vertical-align: top;\n",
       "    }\n",
       "\n",
       "    .dataframe thead th {\n",
       "        text-align: right;\n",
       "    }\n",
       "</style>\n",
       "<table border=\"1\" class=\"dataframe\">\n",
       "  <thead>\n",
       "    <tr style=\"text-align: right;\">\n",
       "      <th></th>\n",
       "      <th>youtube_investment</th>\n",
       "      <th>youtube_conversion</th>\n",
       "      <th>instagram_investment</th>\n",
       "      <th>instagram_conversion</th>\n",
       "      <th>google_investment</th>\n",
       "      <th>google_conversion</th>\n",
       "      <th>newspaper_investment</th>\n",
       "      <th>newspaper_conversion</th>\n",
       "      <th>youtube_sales</th>\n",
       "      <th>instagram_sales</th>\n",
       "      <th>google_sales</th>\n",
       "      <th>newspaper_sales</th>\n",
       "      <th>total_sales</th>\n",
       "    </tr>\n",
       "  </thead>\n",
       "  <tbody>\n",
       "    <tr>\n",
       "      <th>0</th>\n",
       "      <td>399.342831</td>\n",
       "      <td>2</td>\n",
       "      <td>160.305946</td>\n",
       "      <td>5</td>\n",
       "      <td>66.101451</td>\n",
       "      <td>4</td>\n",
       "      <td>56.529545</td>\n",
       "      <td>4</td>\n",
       "      <td>194.0</td>\n",
       "      <td>485.0</td>\n",
       "      <td>388.0</td>\n",
       "      <td>388.0</td>\n",
       "      <td>1455.0</td>\n",
       "    </tr>\n",
       "    <tr>\n",
       "      <th>1</th>\n",
       "      <td>272.347140</td>\n",
       "      <td>1</td>\n",
       "      <td>138.446452</td>\n",
       "      <td>0</td>\n",
       "      <td>147.239825</td>\n",
       "      <td>0</td>\n",
       "      <td>77.592848</td>\n",
       "      <td>7</td>\n",
       "      <td>97.0</td>\n",
       "      <td>0.0</td>\n",
       "      <td>0.0</td>\n",
       "      <td>679.0</td>\n",
       "      <td>776.0</td>\n",
       "    </tr>\n",
       "    <tr>\n",
       "      <th>2</th>\n",
       "      <td>429.537708</td>\n",
       "      <td>5</td>\n",
       "      <td>155.754372</td>\n",
       "      <td>0</td>\n",
       "      <td>448.582161</td>\n",
       "      <td>9</td>\n",
       "      <td>7.059979</td>\n",
       "      <td>0</td>\n",
       "      <td>485.0</td>\n",
       "      <td>0.0</td>\n",
       "      <td>873.0</td>\n",
       "      <td>0.0</td>\n",
       "      <td>1358.0</td>\n",
       "    </tr>\n",
       "    <tr>\n",
       "      <th>3</th>\n",
       "      <td>604.605971</td>\n",
       "      <td>8</td>\n",
       "      <td>143.807615</td>\n",
       "      <td>5</td>\n",
       "      <td>293.582448</td>\n",
       "      <td>0</td>\n",
       "      <td>108.390371</td>\n",
       "      <td>6</td>\n",
       "      <td>776.0</td>\n",
       "      <td>485.0</td>\n",
       "      <td>0.0</td>\n",
       "      <td>582.0</td>\n",
       "      <td>1843.0</td>\n",
       "    </tr>\n",
       "    <tr>\n",
       "      <th>4</th>\n",
       "      <td>253.169325</td>\n",
       "      <td>4</td>\n",
       "      <td>146.725972</td>\n",
       "      <td>0</td>\n",
       "      <td>44.106098</td>\n",
       "      <td>11</td>\n",
       "      <td>31.623392</td>\n",
       "      <td>0</td>\n",
       "      <td>388.0</td>\n",
       "      <td>0.0</td>\n",
       "      <td>1067.0</td>\n",
       "      <td>0.0</td>\n",
       "      <td>1455.0</td>\n",
       "    </tr>\n",
       "  </tbody>\n",
       "</table>\n",
       "</div>"
      ],
      "text/plain": [
       "   youtube_investment  youtube_conversion  instagram_investment  \\\n",
       "0          399.342831                   2            160.305946   \n",
       "1          272.347140                   1            138.446452   \n",
       "2          429.537708                   5            155.754372   \n",
       "3          604.605971                   8            143.807615   \n",
       "4          253.169325                   4            146.725972   \n",
       "\n",
       "   instagram_conversion  google_investment  google_conversion  \\\n",
       "0                     5          66.101451                  4   \n",
       "1                     0         147.239825                  0   \n",
       "2                     0         448.582161                  9   \n",
       "3                     5         293.582448                  0   \n",
       "4                     0          44.106098                 11   \n",
       "\n",
       "   newspaper_investment  newspaper_conversion  youtube_sales  instagram_sales  \\\n",
       "0             56.529545                     4          194.0            485.0   \n",
       "1             77.592848                     7           97.0              0.0   \n",
       "2              7.059979                     0          485.0              0.0   \n",
       "3            108.390371                     6          776.0            485.0   \n",
       "4             31.623392                     0          388.0              0.0   \n",
       "\n",
       "   google_sales  newspaper_sales  total_sales  \n",
       "0         388.0            388.0       1455.0  \n",
       "1           0.0            679.0        776.0  \n",
       "2         873.0              0.0       1358.0  \n",
       "3           0.0            582.0       1843.0  \n",
       "4        1067.0              0.0       1455.0  "
      ]
     },
     "execution_count": 2544,
     "metadata": {},
     "output_type": "execute_result"
    }
   ],
   "source": [
    "df_investments.head()"
   ]
  },
  {
   "cell_type": "code",
   "execution_count": 2546,
   "id": "ea1af073-24bc-4b6b-806d-f19b78c5559c",
   "metadata": {},
   "outputs": [
    {
     "data": {
      "text/html": [
       "<div>\n",
       "<style scoped>\n",
       "    .dataframe tbody tr th:only-of-type {\n",
       "        vertical-align: middle;\n",
       "    }\n",
       "\n",
       "    .dataframe tbody tr th {\n",
       "        vertical-align: top;\n",
       "    }\n",
       "\n",
       "    .dataframe thead th {\n",
       "        text-align: right;\n",
       "    }\n",
       "</style>\n",
       "<table border=\"1\" class=\"dataframe\">\n",
       "  <thead>\n",
       "    <tr style=\"text-align: right;\">\n",
       "      <th></th>\n",
       "      <th>youtube_investment</th>\n",
       "      <th>youtube_conversion</th>\n",
       "      <th>instagram_investment</th>\n",
       "      <th>instagram_conversion</th>\n",
       "      <th>google_investment</th>\n",
       "      <th>google_conversion</th>\n",
       "      <th>newspaper_investment</th>\n",
       "      <th>newspaper_conversion</th>\n",
       "      <th>youtube_sales</th>\n",
       "      <th>instagram_sales</th>\n",
       "      <th>google_sales</th>\n",
       "      <th>newspaper_sales</th>\n",
       "      <th>total_sales</th>\n",
       "    </tr>\n",
       "  </thead>\n",
       "  <tbody>\n",
       "    <tr>\n",
       "      <th>count</th>\n",
       "      <td>50000.000000</td>\n",
       "      <td>50000.000000</td>\n",
       "      <td>50000.000000</td>\n",
       "      <td>50000.00000</td>\n",
       "      <td>50000.000000</td>\n",
       "      <td>50000.000000</td>\n",
       "      <td>50000.000000</td>\n",
       "      <td>50000.000000</td>\n",
       "      <td>50000.000000</td>\n",
       "      <td>50000.000000</td>\n",
       "      <td>50000.000000</td>\n",
       "      <td>50000.000000</td>\n",
       "      <td>50000.000000</td>\n",
       "    </tr>\n",
       "    <tr>\n",
       "      <th>mean</th>\n",
       "      <td>305.808349</td>\n",
       "      <td>2.462240</td>\n",
       "      <td>150.035700</td>\n",
       "      <td>1.45252</td>\n",
       "      <td>100.264952</td>\n",
       "      <td>3.441680</td>\n",
       "      <td>49.912000</td>\n",
       "      <td>3.483380</td>\n",
       "      <td>238.837280</td>\n",
       "      <td>140.894440</td>\n",
       "      <td>333.842960</td>\n",
       "      <td>337.887860</td>\n",
       "      <td>1051.462540</td>\n",
       "    </tr>\n",
       "    <tr>\n",
       "      <th>std</th>\n",
       "      <td>188.420337</td>\n",
       "      <td>2.848883</td>\n",
       "      <td>9.995761</td>\n",
       "      <td>1.93085</td>\n",
       "      <td>100.227898</td>\n",
       "      <td>4.855664</td>\n",
       "      <td>19.897118</td>\n",
       "      <td>4.870901</td>\n",
       "      <td>276.341688</td>\n",
       "      <td>187.292412</td>\n",
       "      <td>470.999382</td>\n",
       "      <td>472.477414</td>\n",
       "      <td>744.642036</td>\n",
       "    </tr>\n",
       "    <tr>\n",
       "      <th>min</th>\n",
       "      <td>0.000000</td>\n",
       "      <td>0.000000</td>\n",
       "      <td>110.006678</td>\n",
       "      <td>0.00000</td>\n",
       "      <td>0.000849</td>\n",
       "      <td>0.000000</td>\n",
       "      <td>0.000000</td>\n",
       "      <td>0.000000</td>\n",
       "      <td>0.000000</td>\n",
       "      <td>0.000000</td>\n",
       "      <td>0.000000</td>\n",
       "      <td>0.000000</td>\n",
       "      <td>0.000000</td>\n",
       "    </tr>\n",
       "    <tr>\n",
       "      <th>25%</th>\n",
       "      <td>164.274958</td>\n",
       "      <td>0.000000</td>\n",
       "      <td>143.283809</td>\n",
       "      <td>0.00000</td>\n",
       "      <td>29.022183</td>\n",
       "      <td>0.000000</td>\n",
       "      <td>36.406184</td>\n",
       "      <td>0.000000</td>\n",
       "      <td>0.000000</td>\n",
       "      <td>0.000000</td>\n",
       "      <td>0.000000</td>\n",
       "      <td>0.000000</td>\n",
       "      <td>485.000000</td>\n",
       "    </tr>\n",
       "    <tr>\n",
       "      <th>50%</th>\n",
       "      <td>300.347880</td>\n",
       "      <td>2.000000</td>\n",
       "      <td>150.031235</td>\n",
       "      <td>0.00000</td>\n",
       "      <td>69.749003</td>\n",
       "      <td>0.000000</td>\n",
       "      <td>49.830258</td>\n",
       "      <td>1.000000</td>\n",
       "      <td>194.000000</td>\n",
       "      <td>0.000000</td>\n",
       "      <td>0.000000</td>\n",
       "      <td>97.000000</td>\n",
       "      <td>970.000000</td>\n",
       "    </tr>\n",
       "    <tr>\n",
       "      <th>75%</th>\n",
       "      <td>435.412069</td>\n",
       "      <td>4.000000</td>\n",
       "      <td>156.780928</td>\n",
       "      <td>3.00000</td>\n",
       "      <td>138.951870</td>\n",
       "      <td>6.000000</td>\n",
       "      <td>63.298085</td>\n",
       "      <td>6.000000</td>\n",
       "      <td>388.000000</td>\n",
       "      <td>291.000000</td>\n",
       "      <td>582.000000</td>\n",
       "      <td>582.000000</td>\n",
       "      <td>1552.000000</td>\n",
       "    </tr>\n",
       "    <tr>\n",
       "      <th>max</th>\n",
       "      <td>1195.816850</td>\n",
       "      <td>17.000000</td>\n",
       "      <td>195.621147</td>\n",
       "      <td>12.00000</td>\n",
       "      <td>952.748984</td>\n",
       "      <td>34.000000</td>\n",
       "      <td>128.363700</td>\n",
       "      <td>31.000000</td>\n",
       "      <td>1649.000000</td>\n",
       "      <td>1164.000000</td>\n",
       "      <td>3298.000000</td>\n",
       "      <td>3007.000000</td>\n",
       "      <td>5141.000000</td>\n",
       "    </tr>\n",
       "  </tbody>\n",
       "</table>\n",
       "</div>"
      ],
      "text/plain": [
       "       youtube_investment  youtube_conversion  instagram_investment  \\\n",
       "count        50000.000000        50000.000000          50000.000000   \n",
       "mean           305.808349            2.462240            150.035700   \n",
       "std            188.420337            2.848883              9.995761   \n",
       "min              0.000000            0.000000            110.006678   \n",
       "25%            164.274958            0.000000            143.283809   \n",
       "50%            300.347880            2.000000            150.031235   \n",
       "75%            435.412069            4.000000            156.780928   \n",
       "max           1195.816850           17.000000            195.621147   \n",
       "\n",
       "       instagram_conversion  google_investment  google_conversion  \\\n",
       "count           50000.00000       50000.000000       50000.000000   \n",
       "mean                1.45252         100.264952           3.441680   \n",
       "std                 1.93085         100.227898           4.855664   \n",
       "min                 0.00000           0.000849           0.000000   \n",
       "25%                 0.00000          29.022183           0.000000   \n",
       "50%                 0.00000          69.749003           0.000000   \n",
       "75%                 3.00000         138.951870           6.000000   \n",
       "max                12.00000         952.748984          34.000000   \n",
       "\n",
       "       newspaper_investment  newspaper_conversion  youtube_sales  \\\n",
       "count          50000.000000          50000.000000   50000.000000   \n",
       "mean              49.912000              3.483380     238.837280   \n",
       "std               19.897118              4.870901     276.341688   \n",
       "min                0.000000              0.000000       0.000000   \n",
       "25%               36.406184              0.000000       0.000000   \n",
       "50%               49.830258              1.000000     194.000000   \n",
       "75%               63.298085              6.000000     388.000000   \n",
       "max              128.363700             31.000000    1649.000000   \n",
       "\n",
       "       instagram_sales  google_sales  newspaper_sales   total_sales  \n",
       "count     50000.000000  50000.000000     50000.000000  50000.000000  \n",
       "mean        140.894440    333.842960       337.887860   1051.462540  \n",
       "std         187.292412    470.999382       472.477414    744.642036  \n",
       "min           0.000000      0.000000         0.000000      0.000000  \n",
       "25%           0.000000      0.000000         0.000000    485.000000  \n",
       "50%           0.000000      0.000000        97.000000    970.000000  \n",
       "75%         291.000000    582.000000       582.000000   1552.000000  \n",
       "max        1164.000000   3298.000000      3007.000000   5141.000000  "
      ]
     },
     "execution_count": 2546,
     "metadata": {},
     "output_type": "execute_result"
    }
   ],
   "source": [
    "df_investments.describe()"
   ]
  },
  {
   "cell_type": "code",
   "execution_count": 2548,
   "id": "29663ac9-7742-49bb-8fa1-5440d7619f26",
   "metadata": {},
   "outputs": [
    {
     "data": {
      "image/png": "[encoded data removed]",
      "text/plain": [
       "<Figure size 1000x250 with 4 Axes>"
      ]
     },
     "metadata": {},
     "output_type": "display_data"
    }
   ],
   "source": [
    "sns.pairplot(df_investments, x_vars=['youtube_sales','instagram_sales','newspaper_sales', 'google_sales'], y_vars=\"total_sales\");"
   ]
  },
  {
   "cell_type": "code",
   "execution_count": 2549,
   "id": "bf137602-ecb4-41d5-8483-0215d27d3dbb",
   "metadata": {},
   "outputs": [
    {
     "data": {
      "image/png": "[encoded data removed]",
      "text/plain": [
       "<Figure size 640x480 with 2 Axes>"
      ]
     },
     "metadata": {},
     "output_type": "display_data"
    }
   ],
   "source": [
    "selected_columns = ['youtube_sales','instagram_sales','newspaper_sales', 'google_sales','total_sales']\n",
    "correlation_matrix = df_investments[selected_columns].corr()\n",
    "\n",
    "sns.heatmap(correlation_matrix, annot=True, cmap=\"coolwarm\");"
   ]
  },
  {
   "cell_type": "code",
   "execution_count": 2550,
   "id": "d0a3268d-12b0-4c96-816c-8578688da2b1",
   "metadata": {},
   "outputs": [
    {
     "name": "stdout",
     "output_type": "stream",
     "text": [
      "<class 'pandas.core.frame.DataFrame'>\n",
      "RangeIndex: 50000 entries, 0 to 49999\n",
      "Data columns (total 13 columns):\n",
      " #   Column                Non-Null Count  Dtype  \n",
      "---  ------                --------------  -----  \n",
      " 0   youtube_investment    50000 non-null  float64\n",
      " 1   youtube_conversion    50000 non-null  int64  \n",
      " 2   instagram_investment  50000 non-null  float64\n",
      " 3   instagram_conversion  50000 non-null  int64  \n",
      " 4   google_investment     50000 non-null  float64\n",
      " 5   google_conversion     50000 non-null  int64  \n",
      " 6   newspaper_investment  50000 non-null  float64\n",
      " 7   newspaper_conversion  50000 non-null  int64  \n",
      " 8   youtube_sales         50000 non-null  float64\n",
      " 9   instagram_sales       50000 non-null  float64\n",
      " 10  google_sales          50000 non-null  float64\n",
      " 11  newspaper_sales       50000 non-null  float64\n",
      " 12  total_sales           50000 non-null  float64\n",
      "dtypes: float64(9), int64(4)\n",
      "memory usage: 5.0 MB\n"
     ]
    }
   ],
   "source": [
    "df_investments.info()"
   ]
  },
  {
   "cell_type": "code",
   "execution_count": 2554,
   "id": "aeb1ee46-df86-4527-a35c-8c1986fc9419",
   "metadata": {},
   "outputs": [],
   "source": [
    "df_analytics = pd.DataFrame({\n",
    "    \"canal\": [\"YouTube\",\"Instagram\",\"Google\",\"Newspaper\"],\n",
    "    \"Quanto cada canal trouxe de receita\": [\n",
    "        df_investments[\"youtube_sales\"].sum(),\n",
    "        df_investments[\"instagram_sales\"].sum(),\n",
    "        df_investments[\"google_sales\"].sum(),\n",
    "        df_investments[\"newspaper_sales\"].sum(),\n",
    "    ],\n",
    "    \"Quanto foi investido em cada canal\": [\n",
    "        df_investments[\"youtube_investment\"].sum(),\n",
    "        df_investments[\"instagram_investment\"].sum(),\n",
    "        df_investments[\"google_investment\"].sum(),\n",
    "        df_investments[\"newspaper_investment\"].sum()\n",
    "    ],\n",
    "    \"Quanto de conversão por canal\": [\n",
    "        df_investments[\"youtube_conversion\"].sum(),\n",
    "        df_investments[\"instagram_conversion\"].sum(),\n",
    "        df_investments[\"google_conversion\"].sum(),\n",
    "        df_investments[\"newspaper_conversion\"].sum()\n",
    "    ],\n",
    "    \"Despesas - Receita\": [\n",
    "        df_investments[\"youtube_sales\"].sum() - df_investments[\"youtube_investment\"].sum(),\n",
    "        df_investments[\"instagram_sales\"].sum() - df_investments[\"instagram_investment\"].sum(),\n",
    "        df_investments[\"google_sales\"].sum() - df_investments[\"google_investment\"].sum(),\n",
    "        df_investments[\"newspaper_sales\"].sum() - df_investments[\"newspaper_investment\"].sum()\n",
    "    ]\n",
    "})"
   ]
  },
  {
   "cell_type": "code",
   "execution_count": 2556,
   "id": "01a5bdbb-5c8c-479b-bc58-4d71b104789e",
   "metadata": {},
   "outputs": [
    {
     "data": {
      "text/html": [
       "<div>\n",
       "<style scoped>\n",
       "    .dataframe tbody tr th:only-of-type {\n",
       "        vertical-align: middle;\n",
       "    }\n",
       "\n",
       "    .dataframe tbody tr th {\n",
       "        vertical-align: top;\n",
       "    }\n",
       "\n",
       "    .dataframe thead th {\n",
       "        text-align: right;\n",
       "    }\n",
       "</style>\n",
       "<table border=\"1\" class=\"dataframe\">\n",
       "  <thead>\n",
       "    <tr style=\"text-align: right;\">\n",
       "      <th></th>\n",
       "      <th>canal</th>\n",
       "      <th>Quanto cada canal trouxe de receita</th>\n",
       "      <th>Quanto foi investido em cada canal</th>\n",
       "      <th>Quanto de conversão por canal</th>\n",
       "      <th>Despesas - Receita</th>\n",
       "    </tr>\n",
       "  </thead>\n",
       "  <tbody>\n",
       "    <tr>\n",
       "      <th>0</th>\n",
       "      <td>YouTube</td>\n",
       "      <td>11941864.0</td>\n",
       "      <td>1.529042e+07</td>\n",
       "      <td>123112</td>\n",
       "      <td>-3.348553e+06</td>\n",
       "    </tr>\n",
       "    <tr>\n",
       "      <th>1</th>\n",
       "      <td>Instagram</td>\n",
       "      <td>7044722.0</td>\n",
       "      <td>7.501785e+06</td>\n",
       "      <td>72626</td>\n",
       "      <td>-4.570630e+05</td>\n",
       "    </tr>\n",
       "    <tr>\n",
       "      <th>2</th>\n",
       "      <td>Google</td>\n",
       "      <td>16692148.0</td>\n",
       "      <td>5.013248e+06</td>\n",
       "      <td>172084</td>\n",
       "      <td>1.167890e+07</td>\n",
       "    </tr>\n",
       "    <tr>\n",
       "      <th>3</th>\n",
       "      <td>Newspaper</td>\n",
       "      <td>16894393.0</td>\n",
       "      <td>2.495600e+06</td>\n",
       "      <td>174169</td>\n",
       "      <td>1.439879e+07</td>\n",
       "    </tr>\n",
       "  </tbody>\n",
       "</table>\n",
       "</div>"
      ],
      "text/plain": [
       "       canal  Quanto cada canal trouxe de receita  \\\n",
       "0    YouTube                           11941864.0   \n",
       "1  Instagram                            7044722.0   \n",
       "2     Google                           16692148.0   \n",
       "3  Newspaper                           16894393.0   \n",
       "\n",
       "   Quanto foi investido em cada canal  Quanto de conversão por canal  \\\n",
       "0                        1.529042e+07                         123112   \n",
       "1                        7.501785e+06                          72626   \n",
       "2                        5.013248e+06                         172084   \n",
       "3                        2.495600e+06                         174169   \n",
       "\n",
       "   Despesas - Receita  \n",
       "0       -3.348553e+06  \n",
       "1       -4.570630e+05  \n",
       "2        1.167890e+07  \n",
       "3        1.439879e+07  "
      ]
     },
     "execution_count": 2556,
     "metadata": {},
     "output_type": "execute_result"
    }
   ],
   "source": [
    "df_analytics.head()"
   ]
  },
  {
   "cell_type": "code",
   "execution_count": 2558,
   "id": "8584a8af-daf3-4f79-974d-2f3853a0d015",
   "metadata": {},
   "outputs": [
    {
     "data": {
      "text/html": [
       "<div>\n",
       "<style scoped>\n",
       "    .dataframe tbody tr th:only-of-type {\n",
       "        vertical-align: middle;\n",
       "    }\n",
       "\n",
       "    .dataframe tbody tr th {\n",
       "        vertical-align: top;\n",
       "    }\n",
       "\n",
       "    .dataframe thead th {\n",
       "        text-align: right;\n",
       "    }\n",
       "</style>\n",
       "<table border=\"1\" class=\"dataframe\">\n",
       "  <thead>\n",
       "    <tr style=\"text-align: right;\">\n",
       "      <th></th>\n",
       "      <th>canal</th>\n",
       "      <th>Quanto cada canal trouxe de receita</th>\n",
       "      <th>Quanto foi investido em cada canal</th>\n",
       "      <th>Quanto de conversão por canal</th>\n",
       "      <th>Despesas - Receita</th>\n",
       "    </tr>\n",
       "  </thead>\n",
       "  <tbody>\n",
       "    <tr>\n",
       "      <th>0</th>\n",
       "      <td>YouTube</td>\n",
       "      <td>11,941,864.00</td>\n",
       "      <td>15,290,417.44</td>\n",
       "      <td>123,112</td>\n",
       "      <td>-3,348,553.44</td>\n",
       "    </tr>\n",
       "    <tr>\n",
       "      <th>1</th>\n",
       "      <td>Instagram</td>\n",
       "      <td>7,044,722.00</td>\n",
       "      <td>7,501,785.02</td>\n",
       "      <td>72,626</td>\n",
       "      <td>-457,063.02</td>\n",
       "    </tr>\n",
       "    <tr>\n",
       "      <th>2</th>\n",
       "      <td>Google</td>\n",
       "      <td>16,692,148.00</td>\n",
       "      <td>5,013,247.60</td>\n",
       "      <td>172,084</td>\n",
       "      <td>11,678,900.40</td>\n",
       "    </tr>\n",
       "    <tr>\n",
       "      <th>3</th>\n",
       "      <td>Newspaper</td>\n",
       "      <td>16,894,393.00</td>\n",
       "      <td>2,495,600.01</td>\n",
       "      <td>174,169</td>\n",
       "      <td>14,398,792.99</td>\n",
       "    </tr>\n",
       "  </tbody>\n",
       "</table>\n",
       "</div>"
      ],
      "text/plain": [
       "       canal Quanto cada canal trouxe de receita  \\\n",
       "0    YouTube                       11,941,864.00   \n",
       "1  Instagram                        7,044,722.00   \n",
       "2     Google                       16,692,148.00   \n",
       "3  Newspaper                       16,894,393.00   \n",
       "\n",
       "  Quanto foi investido em cada canal Quanto de conversão por canal  \\\n",
       "0                      15,290,417.44                       123,112   \n",
       "1                       7,501,785.02                        72,626   \n",
       "2                       5,013,247.60                       172,084   \n",
       "3                       2,495,600.01                       174,169   \n",
       "\n",
       "  Despesas - Receita  \n",
       "0      -3,348,553.44  \n",
       "1        -457,063.02  \n",
       "2      11,678,900.40  \n",
       "3      14,398,792.99  "
      ]
     },
     "execution_count": 2558,
     "metadata": {},
     "output_type": "execute_result"
    }
   ],
   "source": [
    "df_analytics['Quanto cada canal trouxe de receita'] = df_analytics['Quanto cada canal trouxe de receita'].apply(lambda x: f\"{x:,.2f}\")\n",
    "df_analytics['Quanto foi investido em cada canal'] = df_analytics['Quanto foi investido em cada canal'].apply(lambda x: f\"{x:,.2f}\")\n",
    "df_analytics['Quanto de conversão por canal'] = df_analytics['Quanto de conversão por canal'].apply(lambda x: f\"{x:,}\")\n",
    "df_analytics['Despesas - Receita'] = df_analytics['Despesas - Receita'].apply(lambda x: f\"{x:,.2f}\")\n",
    "\n",
    "df_analytics.head()\n"
   ]
  },
  {
   "cell_type": "code",
   "execution_count": 2560,
   "id": "6e79fd61-2d4d-48e2-ab3f-cdfe1199c7a8",
   "metadata": {},
   "outputs": [
    {
     "data": {
      "application/vnd.plotly.v1+json": {
       "config": {
        "plotlyServerURL": "https://plot.ly"
       },
       "data": [
        {
         "alignmentgroup": "True",
         "hovertemplate": "canal=%{x}<br>Despesas - Receita=%{y}<extra></extra>",
         "legendgroup": "",
         "marker": {
          "color": "#636efa",
          "pattern": {
           "shape": ""
          }
         },
         "name": "",
         "offsetgroup": "",
         "orientation": "v",
         "showlegend": false,
         "textposition": "auto",
         "type": "bar",
         "x": [
          "YouTube",
          "Instagram",
          "Google",
          "Newspaper"
         ],
         "xaxis": "x",
         "y": [
          "-3,348,553.44",
          "-457,063.02",
          "11,678,900.40",
          "14,398,792.99"
         ],
         "yaxis": "y"
        }
       ],
       "layout": {
        "autosize": true,
        "barmode": "relative",
        "legend": {
         "tracegroupgap": 0
        },
        "margin": {
         "t": 60
        },
        "template": {
         "data": {
          "bar": [
           {
            "error_x": {
             "color": "#2a3f5f"
            },
            "error_y": {
             "color": "#2a3f5f"
            },
            "marker": {
             "line": {
              "color": "#E5ECF6",
              "width": 0.5
             },
             "pattern": {
              "fillmode": "overlay",
              "size": 10,
              "solidity": 0.2
             }
            },
            "type": "bar"
           }
          ],
          "barpolar": [
           {
            "marker": {
             "line": {
              "color": "#E5ECF6",
              "width": 0.5
             },
             "pattern": {
              "fillmode": "overlay",
              "size": 10,
              "solidity": 0.2
             }
            },
            "type": "barpolar"
           }
          ],
          "carpet": [
           {
            "aaxis": {
             "endlinecolor": "#2a3f5f",
             "gridcolor": "white",
             "linecolor": "white",
             "minorgridcolor": "white",
             "startlinecolor": "#2a3f5f"
            },
            "baxis": {
             "endlinecolor": "#2a3f5f",
             "gridcolor": "white",
             "linecolor": "white",
             "minorgridcolor": "white",
             "startlinecolor": "#2a3f5f"
            },
            "type": "carpet"
           }
          ],
          "choropleth": [
           {
            "colorbar": {
             "outlinewidth": 0,
             "ticks": ""
            },
            "type": "choropleth"
           }
          ],
          "contour": [
           {
            "colorbar": {
             "outlinewidth": 0,
             "ticks": ""
            },
            "colorscale": [
             [
              0,
              "#0d0887"
             ],
             [
              0.1111111111111111,
              "#46039f"
             ],
             [
              0.2222222222222222,
              "#7201a8"
             ],
             [
              0.3333333333333333,
              "#9c179e"
             ],
             [
              0.4444444444444444,
              "#bd3786"
             ],
             [
              0.5555555555555556,
              "#d8576b"
             ],
             [
              0.6666666666666666,
              "#ed7953"
             ],
             [
              0.7777777777777778,
              "#fb9f3a"
             ],
             [
              0.8888888888888888,
              "#fdca26"
             ],
             [
              1,
              "#f0f921"
             ]
            ],
            "type": "contour"
           }
          ],
          "contourcarpet": [
           {
            "colorbar": {
             "outlinewidth": 0,
             "ticks": ""
            },
            "type": "contourcarpet"
           }
          ],
          "heatmap": [
           {
            "colorbar": {
             "outlinewidth": 0,
             "ticks": ""
            },
            "colorscale": [
             [
              0,
              "#0d0887"
             ],
             [
              0.1111111111111111,
              "#46039f"
             ],
             [
              0.2222222222222222,
              "#7201a8"
             ],
             [
              0.3333333333333333,
              "#9c179e"
             ],
             [
              0.4444444444444444,
              "#bd3786"
             ],
             [
              0.5555555555555556,
              "#d8576b"
             ],
             [
              0.6666666666666666,
              "#ed7953"
             ],
             [
              0.7777777777777778,
              "#fb9f3a"
             ],
             [
              0.8888888888888888,
              "#fdca26"
             ],
             [
              1,
              "#f0f921"
             ]
            ],
            "type": "heatmap"
           }
          ],
          "heatmapgl": [
           {
            "colorbar": {
             "outlinewidth": 0,
             "ticks": ""
            },
            "colorscale": [
             [
              0,
              "#0d0887"
             ],
             [
              0.1111111111111111,
              "#46039f"
             ],
             [
              0.2222222222222222,
              "#7201a8"
             ],
             [
              0.3333333333333333,
              "#9c179e"
             ],
             [
              0.4444444444444444,
              "#bd3786"
             ],
             [
              0.5555555555555556,
              "#d8576b"
             ],
             [
              0.6666666666666666,
              "#ed7953"
             ],
             [
              0.7777777777777778,
              "#fb9f3a"
             ],
             [
              0.8888888888888888,
              "#fdca26"
             ],
             [
              1,
              "#f0f921"
             ]
            ],
            "type": "heatmapgl"
           }
          ],
          "histogram": [
           {
            "marker": {
             "pattern": {
              "fillmode": "overlay",
              "size": 10,
              "solidity": 0.2
             }
            },
            "type": "histogram"
           }
          ],
          "histogram2d": [
           {
            "colorbar": {
             "outlinewidth": 0,
             "ticks": ""
            },
            "colorscale": [
             [
              0,
              "#0d0887"
             ],
             [
              0.1111111111111111,
              "#46039f"
             ],
             [
              0.2222222222222222,
              "#7201a8"
             ],
             [
              0.3333333333333333,
              "#9c179e"
             ],
             [
              0.4444444444444444,
              "#bd3786"
             ],
             [
              0.5555555555555556,
              "#d8576b"
             ],
             [
              0.6666666666666666,
              "#ed7953"
             ],
             [
              0.7777777777777778,
              "#fb9f3a"
             ],
             [
              0.8888888888888888,
              "#fdca26"
             ],
             [
              1,
              "#f0f921"
             ]
            ],
            "type": "histogram2d"
           }
          ],
          "histogram2dcontour": [
           {
            "colorbar": {
             "outlinewidth": 0,
             "ticks": ""
            },
            "colorscale": [
             [
              0,
              "#0d0887"
             ],
             [
              0.1111111111111111,
              "#46039f"
             ],
             [
              0.2222222222222222,
              "#7201a8"
             ],
             [
              0.3333333333333333,
              "#9c179e"
             ],
             [
              0.4444444444444444,
              "#bd3786"
             ],
             [
              0.5555555555555556,
              "#d8576b"
             ],
             [
              0.6666666666666666,
              "#ed7953"
             ],
             [
              0.7777777777777778,
              "#fb9f3a"
             ],
             [
              0.8888888888888888,
              "#fdca26"
             ],
             [
              1,
              "#f0f921"
             ]
            ],
            "type": "histogram2dcontour"
           }
          ],
          "mesh3d": [
           {
            "colorbar": {
             "outlinewidth": 0,
             "ticks": ""
            },
            "type": "mesh3d"
           }
          ],
          "parcoords": [
           {
            "line": {
             "colorbar": {
              "outlinewidth": 0,
              "ticks": ""
             }
            },
            "type": "parcoords"
           }
          ],
          "pie": [
           {
            "automargin": true,
            "type": "pie"
           }
          ],
          "scatter": [
           {
            "fillpattern": {
             "fillmode": "overlay",
             "size": 10,
             "solidity": 0.2
            },
            "type": "scatter"
           }
          ],
          "scatter3d": [
           {
            "line": {
             "colorbar": {
              "outlinewidth": 0,
              "ticks": ""
             }
            },
            "marker": {
             "colorbar": {
              "outlinewidth": 0,
              "ticks": ""
             }
            },
            "type": "scatter3d"
           }
          ],
          "scattercarpet": [
           {
            "marker": {
             "colorbar": {
              "outlinewidth": 0,
              "ticks": ""
             }
            },
            "type": "scattercarpet"
           }
          ],
          "scattergeo": [
           {
            "marker": {
             "colorbar": {
              "outlinewidth": 0,
              "ticks": ""
             }
            },
            "type": "scattergeo"
           }
          ],
          "scattergl": [
           {
            "marker": {
             "colorbar": {
              "outlinewidth": 0,
              "ticks": ""
             }
            },
            "type": "scattergl"
           }
          ],
          "scattermapbox": [
           {
            "marker": {
             "colorbar": {
              "outlinewidth": 0,
              "ticks": ""
             }
            },
            "type": "scattermapbox"
           }
          ],
          "scatterpolar": [
           {
            "marker": {
             "colorbar": {
              "outlinewidth": 0,
              "ticks": ""
             }
            },
            "type": "scatterpolar"
           }
          ],
          "scatterpolargl": [
           {
            "marker": {
             "colorbar": {
              "outlinewidth": 0,
              "ticks": ""
             }
            },
            "type": "scatterpolargl"
           }
          ],
          "scatterternary": [
           {
            "marker": {
             "colorbar": {
              "outlinewidth": 0,
              "ticks": ""
             }
            },
            "type": "scatterternary"
           }
          ],
          "surface": [
           {
            "colorbar": {
             "outlinewidth": 0,
             "ticks": ""
            },
            "colorscale": [
             [
              0,
              "#0d0887"
             ],
             [
              0.1111111111111111,
              "#46039f"
             ],
             [
              0.2222222222222222,
              "#7201a8"
             ],
             [
              0.3333333333333333,
              "#9c179e"
             ],
             [
              0.4444444444444444,
              "#bd3786"
             ],
             [
              0.5555555555555556,
              "#d8576b"
             ],
             [
              0.6666666666666666,
              "#ed7953"
             ],
             [
              0.7777777777777778,
              "#fb9f3a"
             ],
             [
              0.8888888888888888,
              "#fdca26"
             ],
             [
              1,
              "#f0f921"
             ]
            ],
            "type": "surface"
           }
          ],
          "table": [
           {
            "cells": {
             "fill": {
              "color": "#EBF0F8"
             },
             "line": {
              "color": "white"
             }
            },
            "header": {
             "fill": {
              "color": "#C8D4E3"
             },
             "line": {
              "color": "white"
             }
            },
            "type": "table"
           }
          ]
         },
         "layout": {
          "annotationdefaults": {
           "arrowcolor": "#2a3f5f",
           "arrowhead": 0,
           "arrowwidth": 1
          },
          "autotypenumbers": "strict",
          "coloraxis": {
           "colorbar": {
            "outlinewidth": 0,
            "ticks": ""
           }
          },
          "colorscale": {
           "diverging": [
            [
             0,
             "#8e0152"
            ],
            [
             0.1,
             "#c51b7d"
            ],
            [
             0.2,
             "#de77ae"
            ],
            [
             0.3,
             "#f1b6da"
            ],
            [
             0.4,
             "#fde0ef"
            ],
            [
             0.5,
             "#f7f7f7"
            ],
            [
             0.6,
             "#e6f5d0"
            ],
            [
             0.7,
             "#b8e186"
            ],
            [
             0.8,
             "#7fbc41"
            ],
            [
             0.9,
             "#4d9221"
            ],
            [
             1,
             "#276419"
            ]
           ],
           "sequential": [
            [
             0,
             "#0d0887"
            ],
            [
             0.1111111111111111,
             "#46039f"
            ],
            [
             0.2222222222222222,
             "#7201a8"
            ],
            [
             0.3333333333333333,
             "#9c179e"
            ],
            [
             0.4444444444444444,
             "#bd3786"
            ],
            [
             0.5555555555555556,
             "#d8576b"
            ],
            [
             0.6666666666666666,
             "#ed7953"
            ],
            [
             0.7777777777777778,
             "#fb9f3a"
            ],
            [
             0.8888888888888888,
             "#fdca26"
            ],
            [
             1,
             "#f0f921"
            ]
           ],
           "sequentialminus": [
            [
             0,
             "#0d0887"
            ],
            [
             0.1111111111111111,
             "#46039f"
            ],
            [
             0.2222222222222222,
             "#7201a8"
            ],
            [
             0.3333333333333333,
             "#9c179e"
            ],
            [
             0.4444444444444444,
             "#bd3786"
            ],
            [
             0.5555555555555556,
             "#d8576b"
            ],
            [
             0.6666666666666666,
             "#ed7953"
            ],
            [
             0.7777777777777778,
             "#fb9f3a"
            ],
            [
             0.8888888888888888,
             "#fdca26"
            ],
            [
             1,
             "#f0f921"
            ]
           ]
          },
          "colorway": [
           "#636efa",
           "#EF553B",
           "#00cc96",
           "#ab63fa",
           "#FFA15A",
           "#19d3f3",
           "#FF6692",
           "#B6E880",
           "#FF97FF",
           "#FECB52"
          ],
          "font": {
           "color": "#2a3f5f"
          },
          "geo": {
           "bgcolor": "white",
           "lakecolor": "white",
           "landcolor": "#E5ECF6",
           "showlakes": true,
           "showland": true,
           "subunitcolor": "white"
          },
          "hoverlabel": {
           "align": "left"
          },
          "hovermode": "closest",
          "mapbox": {
           "style": "light"
          },
          "paper_bgcolor": "white",
          "plot_bgcolor": "#E5ECF6",
          "polar": {
           "angularaxis": {
            "gridcolor": "white",
            "linecolor": "white",
            "ticks": ""
           },
           "bgcolor": "#E5ECF6",
           "radialaxis": {
            "gridcolor": "white",
            "linecolor": "white",
            "ticks": ""
           }
          },
          "scene": {
           "xaxis": {
            "backgroundcolor": "#E5ECF6",
            "gridcolor": "white",
            "gridwidth": 2,
            "linecolor": "white",
            "showbackground": true,
            "ticks": "",
            "zerolinecolor": "white"
           },
           "yaxis": {
            "backgroundcolor": "#E5ECF6",
            "gridcolor": "white",
            "gridwidth": 2,
            "linecolor": "white",
            "showbackground": true,
            "ticks": "",
            "zerolinecolor": "white"
           },
           "zaxis": {
            "backgroundcolor": "#E5ECF6",
            "gridcolor": "white",
            "gridwidth": 2,
            "linecolor": "white",
            "showbackground": true,
            "ticks": "",
            "zerolinecolor": "white"
           }
          },
          "shapedefaults": {
           "line": {
            "color": "#2a3f5f"
           }
          },
          "ternary": {
           "aaxis": {
            "gridcolor": "white",
            "linecolor": "white",
            "ticks": ""
           },
           "baxis": {
            "gridcolor": "white",
            "linecolor": "white",
            "ticks": ""
           },
           "bgcolor": "#E5ECF6",
           "caxis": {
            "gridcolor": "white",
            "linecolor": "white",
            "ticks": ""
           }
          },
          "title": {
           "x": 0.05
          },
          "xaxis": {
           "automargin": true,
           "gridcolor": "white",
           "linecolor": "white",
           "ticks": "",
           "title": {
            "standoff": 15
           },
           "zerolinecolor": "white",
           "zerolinewidth": 2
          },
          "yaxis": {
           "automargin": true,
           "gridcolor": "white",
           "linecolor": "white",
           "ticks": "",
           "title": {
            "standoff": 15
           },
           "zerolinecolor": "white",
           "zerolinewidth": 2
          }
         }
        },
        "xaxis": {
         "anchor": "y",
         "autorange": true,
         "domain": [
          0,
          1
         ],
         "range": [
          -0.5,
          3.5
         ],
         "title": {
          "text": "canal"
         },
         "type": "category"
        },
        "yaxis": {
         "anchor": "x",
         "autorange": true,
         "domain": [
          0,
          1
         ],
         "range": [
          -0.16666666666666669,
          3.1666666666666665
         ],
         "title": {
          "text": "Despesas - Receita"
         },
         "type": "category"
        }
       }
      },
      "image/png": "[encoded data removed]",
      "text/html": [
       "<div>                            <div id=\"44787947-0d03-442f-ae9c-71c0f98c0675\" class=\"plotly-graph-div\" style=\"height:525px; width:100%;\"></div>            <script type=\"text/javascript\">                require([\"plotly\"], function(Plotly) {                    window.PLOTLYENV=window.PLOTLYENV || {};                                    if (document.getElementById(\"44787947-0d03-442f-ae9c-71c0f98c0675\")) {                    Plotly.newPlot(                        \"44787947-0d03-442f-ae9c-71c0f98c0675\",                        [{\"alignmentgroup\":\"True\",\"hovertemplate\":\"canal=%{x}\\u003cbr\\u003eDespesas - Receita=%{y}\\u003cextra\\u003e\\u003c\\u002fextra\\u003e\",\"legendgroup\":\"\",\"marker\":{\"color\":\"#636efa\",\"pattern\":{\"shape\":\"\"}},\"name\":\"\",\"offsetgroup\":\"\",\"orientation\":\"v\",\"showlegend\":false,\"textposition\":\"auto\",\"x\":[\"YouTube\",\"Instagram\",\"Google\",\"Newspaper\"],\"xaxis\":\"x\",\"y\":[\"-3,348,553.44\",\"-457,063.02\",\"11,678,900.40\",\"14,398,792.99\"],\"yaxis\":\"y\",\"type\":\"bar\"}],                        {\"template\":{\"data\":{\"histogram2dcontour\":[{\"type\":\"histogram2dcontour\",\"colorbar\":{\"outlinewidth\":0,\"ticks\":\"\"},\"colorscale\":[[0.0,\"#0d0887\"],[0.1111111111111111,\"#46039f\"],[0.2222222222222222,\"#7201a8\"],[0.3333333333333333,\"#9c179e\"],[0.4444444444444444,\"#bd3786\"],[0.5555555555555556,\"#d8576b\"],[0.6666666666666666,\"#ed7953\"],[0.7777777777777778,\"#fb9f3a\"],[0.8888888888888888,\"#fdca26\"],[1.0,\"#f0f921\"]]}],\"choropleth\":[{\"type\":\"choropleth\",\"colorbar\":{\"outlinewidth\":0,\"ticks\":\"\"}}],\"histogram2d\":[{\"type\":\"histogram2d\",\"colorbar\":{\"outlinewidth\":0,\"ticks\":\"\"},\"colorscale\":[[0.0,\"#0d0887\"],[0.1111111111111111,\"#46039f\"],[0.2222222222222222,\"#7201a8\"],[0.3333333333333333,\"#9c179e\"],[0.4444444444444444,\"#bd3786\"],[0.5555555555555556,\"#d8576b\"],[0.6666666666666666,\"#ed7953\"],[0.7777777777777778,\"#fb9f3a\"],[0.8888888888888888,\"#fdca26\"],[1.0,\"#f0f921\"]]}],\"heatmap\":[{\"type\":\"heatmap\",\"colorbar\":{\"outlinewidth\":0,\"ticks\":\"\"},\"colorscale\":[[0.0,\"#0d0887\"],[0.1111111111111111,\"#46039f\"],[0.2222222222222222,\"#7201a8\"],[0.3333333333333333,\"#9c179e\"],[0.4444444444444444,\"#bd3786\"],[0.5555555555555556,\"#d8576b\"],[0.6666666666666666,\"#ed7953\"],[0.7777777777777778,\"#fb9f3a\"],[0.8888888888888888,\"#fdca26\"],[1.0,\"#f0f921\"]]}],\"heatmapgl\":[{\"type\":\"heatmapgl\",\"colorbar\":{\"outlinewidth\":0,\"ticks\":\"\"},\"colorscale\":[[0.0,\"#0d0887\"],[0.1111111111111111,\"#46039f\"],[0.2222222222222222,\"#7201a8\"],[0.3333333333333333,\"#9c179e\"],[0.4444444444444444,\"#bd3786\"],[0.5555555555555556,\"#d8576b\"],[0.6666666666666666,\"#ed7953\"],[0.7777777777777778,\"#fb9f3a\"],[0.8888888888888888,\"#fdca26\"],[1.0,\"#f0f921\"]]}],\"contourcarpet\":[{\"type\":\"contourcarpet\",\"colorbar\":{\"outlinewidth\":0,\"ticks\":\"\"}}],\"contour\":[{\"type\":\"contour\",\"colorbar\":{\"outlinewidth\":0,\"ticks\":\"\"},\"colorscale\":[[0.0,\"#0d0887\"],[0.1111111111111111,\"#46039f\"],[0.2222222222222222,\"#7201a8\"],[0.3333333333333333,\"#9c179e\"],[0.4444444444444444,\"#bd3786\"],[0.5555555555555556,\"#d8576b\"],[0.6666666666666666,\"#ed7953\"],[0.7777777777777778,\"#fb9f3a\"],[0.8888888888888888,\"#fdca26\"],[1.0,\"#f0f921\"]]}],\"surface\":[{\"type\":\"surface\",\"colorbar\":{\"outlinewidth\":0,\"ticks\":\"\"},\"colorscale\":[[0.0,\"#0d0887\"],[0.1111111111111111,\"#46039f\"],[0.2222222222222222,\"#7201a8\"],[0.3333333333333333,\"#9c179e\"],[0.4444444444444444,\"#bd3786\"],[0.5555555555555556,\"#d8576b\"],[0.6666666666666666,\"#ed7953\"],[0.7777777777777778,\"#fb9f3a\"],[0.8888888888888888,\"#fdca26\"],[1.0,\"#f0f921\"]]}],\"mesh3d\":[{\"type\":\"mesh3d\",\"colorbar\":{\"outlinewidth\":0,\"ticks\":\"\"}}],\"scatter\":[{\"fillpattern\":{\"fillmode\":\"overlay\",\"size\":10,\"solidity\":0.2},\"type\":\"scatter\"}],\"parcoords\":[{\"type\":\"parcoords\",\"line\":{\"colorbar\":{\"outlinewidth\":0,\"ticks\":\"\"}}}],\"scatterpolargl\":[{\"type\":\"scatterpolargl\",\"marker\":{\"colorbar\":{\"outlinewidth\":0,\"ticks\":\"\"}}}],\"bar\":[{\"error_x\":{\"color\":\"#2a3f5f\"},\"error_y\":{\"color\":\"#2a3f5f\"},\"marker\":{\"line\":{\"color\":\"#E5ECF6\",\"width\":0.5},\"pattern\":{\"fillmode\":\"overlay\",\"size\":10,\"solidity\":0.2}},\"type\":\"bar\"}],\"scattergeo\":[{\"type\":\"scattergeo\",\"marker\":{\"colorbar\":{\"outlinewidth\":0,\"ticks\":\"\"}}}],\"scatterpolar\":[{\"type\":\"scatterpolar\",\"marker\":{\"colorbar\":{\"outlinewidth\":0,\"ticks\":\"\"}}}],\"histogram\":[{\"marker\":{\"pattern\":{\"fillmode\":\"overlay\",\"size\":10,\"solidity\":0.2}},\"type\":\"histogram\"}],\"scattergl\":[{\"type\":\"scattergl\",\"marker\":{\"colorbar\":{\"outlinewidth\":0,\"ticks\":\"\"}}}],\"scatter3d\":[{\"type\":\"scatter3d\",\"line\":{\"colorbar\":{\"outlinewidth\":0,\"ticks\":\"\"}},\"marker\":{\"colorbar\":{\"outlinewidth\":0,\"ticks\":\"\"}}}],\"scattermapbox\":[{\"type\":\"scattermapbox\",\"marker\":{\"colorbar\":{\"outlinewidth\":0,\"ticks\":\"\"}}}],\"scatterternary\":[{\"type\":\"scatterternary\",\"marker\":{\"colorbar\":{\"outlinewidth\":0,\"ticks\":\"\"}}}],\"scattercarpet\":[{\"type\":\"scattercarpet\",\"marker\":{\"colorbar\":{\"outlinewidth\":0,\"ticks\":\"\"}}}],\"carpet\":[{\"aaxis\":{\"endlinecolor\":\"#2a3f5f\",\"gridcolor\":\"white\",\"linecolor\":\"white\",\"minorgridcolor\":\"white\",\"startlinecolor\":\"#2a3f5f\"},\"baxis\":{\"endlinecolor\":\"#2a3f5f\",\"gridcolor\":\"white\",\"linecolor\":\"white\",\"minorgridcolor\":\"white\",\"startlinecolor\":\"#2a3f5f\"},\"type\":\"carpet\"}],\"table\":[{\"cells\":{\"fill\":{\"color\":\"#EBF0F8\"},\"line\":{\"color\":\"white\"}},\"header\":{\"fill\":{\"color\":\"#C8D4E3\"},\"line\":{\"color\":\"white\"}},\"type\":\"table\"}],\"barpolar\":[{\"marker\":{\"line\":{\"color\":\"#E5ECF6\",\"width\":0.5},\"pattern\":{\"fillmode\":\"overlay\",\"size\":10,\"solidity\":0.2}},\"type\":\"barpolar\"}],\"pie\":[{\"automargin\":true,\"type\":\"pie\"}]},\"layout\":{\"autotypenumbers\":\"strict\",\"colorway\":[\"#636efa\",\"#EF553B\",\"#00cc96\",\"#ab63fa\",\"#FFA15A\",\"#19d3f3\",\"#FF6692\",\"#B6E880\",\"#FF97FF\",\"#FECB52\"],\"font\":{\"color\":\"#2a3f5f\"},\"hovermode\":\"closest\",\"hoverlabel\":{\"align\":\"left\"},\"paper_bgcolor\":\"white\",\"plot_bgcolor\":\"#E5ECF6\",\"polar\":{\"bgcolor\":\"#E5ECF6\",\"angularaxis\":{\"gridcolor\":\"white\",\"linecolor\":\"white\",\"ticks\":\"\"},\"radialaxis\":{\"gridcolor\":\"white\",\"linecolor\":\"white\",\"ticks\":\"\"}},\"ternary\":{\"bgcolor\":\"#E5ECF6\",\"aaxis\":{\"gridcolor\":\"white\",\"linecolor\":\"white\",\"ticks\":\"\"},\"baxis\":{\"gridcolor\":\"white\",\"linecolor\":\"white\",\"ticks\":\"\"},\"caxis\":{\"gridcolor\":\"white\",\"linecolor\":\"white\",\"ticks\":\"\"}},\"coloraxis\":{\"colorbar\":{\"outlinewidth\":0,\"ticks\":\"\"}},\"colorscale\":{\"sequential\":[[0.0,\"#0d0887\"],[0.1111111111111111,\"#46039f\"],[0.2222222222222222,\"#7201a8\"],[0.3333333333333333,\"#9c179e\"],[0.4444444444444444,\"#bd3786\"],[0.5555555555555556,\"#d8576b\"],[0.6666666666666666,\"#ed7953\"],[0.7777777777777778,\"#fb9f3a\"],[0.8888888888888888,\"#fdca26\"],[1.0,\"#f0f921\"]],\"sequentialminus\":[[0.0,\"#0d0887\"],[0.1111111111111111,\"#46039f\"],[0.2222222222222222,\"#7201a8\"],[0.3333333333333333,\"#9c179e\"],[0.4444444444444444,\"#bd3786\"],[0.5555555555555556,\"#d8576b\"],[0.6666666666666666,\"#ed7953\"],[0.7777777777777778,\"#fb9f3a\"],[0.8888888888888888,\"#fdca26\"],[1.0,\"#f0f921\"]],\"diverging\":[[0,\"#8e0152\"],[0.1,\"#c51b7d\"],[0.2,\"#de77ae\"],[0.3,\"#f1b6da\"],[0.4,\"#fde0ef\"],[0.5,\"#f7f7f7\"],[0.6,\"#e6f5d0\"],[0.7,\"#b8e186\"],[0.8,\"#7fbc41\"],[0.9,\"#4d9221\"],[1,\"#276419\"]]},\"xaxis\":{\"gridcolor\":\"white\",\"linecolor\":\"white\",\"ticks\":\"\",\"title\":{\"standoff\":15},\"zerolinecolor\":\"white\",\"automargin\":true,\"zerolinewidth\":2},\"yaxis\":{\"gridcolor\":\"white\",\"linecolor\":\"white\",\"ticks\":\"\",\"title\":{\"standoff\":15},\"zerolinecolor\":\"white\",\"automargin\":true,\"zerolinewidth\":2},\"scene\":{\"xaxis\":{\"backgroundcolor\":\"#E5ECF6\",\"gridcolor\":\"white\",\"linecolor\":\"white\",\"showbackground\":true,\"ticks\":\"\",\"zerolinecolor\":\"white\",\"gridwidth\":2},\"yaxis\":{\"backgroundcolor\":\"#E5ECF6\",\"gridcolor\":\"white\",\"linecolor\":\"white\",\"showbackground\":true,\"ticks\":\"\",\"zerolinecolor\":\"white\",\"gridwidth\":2},\"zaxis\":{\"backgroundcolor\":\"#E5ECF6\",\"gridcolor\":\"white\",\"linecolor\":\"white\",\"showbackground\":true,\"ticks\":\"\",\"zerolinecolor\":\"white\",\"gridwidth\":2}},\"shapedefaults\":{\"line\":{\"color\":\"#2a3f5f\"}},\"annotationdefaults\":{\"arrowcolor\":\"#2a3f5f\",\"arrowhead\":0,\"arrowwidth\":1},\"geo\":{\"bgcolor\":\"white\",\"landcolor\":\"#E5ECF6\",\"subunitcolor\":\"white\",\"showland\":true,\"showlakes\":true,\"lakecolor\":\"white\"},\"title\":{\"x\":0.05},\"mapbox\":{\"style\":\"light\"}}},\"xaxis\":{\"anchor\":\"y\",\"domain\":[0.0,1.0],\"title\":{\"text\":\"canal\"}},\"yaxis\":{\"anchor\":\"x\",\"domain\":[0.0,1.0],\"title\":{\"text\":\"Despesas - Receita\"}},\"legend\":{\"tracegroupgap\":0},\"margin\":{\"t\":60},\"barmode\":\"relative\"},                        {\"responsive\": true}                    ).then(function(){\n",
       "                            \n",
       "var gd = document.getElementById('44787947-0d03-442f-ae9c-71c0f98c0675');\n",
       "var x = new MutationObserver(function (mutations, observer) {{\n",
       "        var display = window.getComputedStyle(gd).display;\n",
       "        if (!display || display === 'none') {{\n",
       "            console.log([gd, 'removed!']);\n",
       "            Plotly.purge(gd);\n",
       "            observer.disconnect();\n",
       "        }}\n",
       "}});\n",
       "\n",
       "// Listen for the removal of the full notebook cells\n",
       "var notebookContainer = gd.closest('#notebook-container');\n",
       "if (notebookContainer) {{\n",
       "    x.observe(notebookContainer, {childList: true});\n",
       "}}\n",
       "\n",
       "// Listen for the clearing of the current output cell\n",
       "var outputEl = gd.closest('.output');\n",
       "if (outputEl) {{\n",
       "    x.observe(outputEl, {childList: true});\n",
       "}}\n",
       "\n",
       "                        })                };                });            </script>        </div>"
      ]
     },
     "metadata": {},
     "output_type": "display_data"
    }
   ],
   "source": [
    "px.bar(df_analytics, x = \"canal\", y = \"Despesas - Receita\")"
   ]
  },
  {
   "cell_type": "code",
   "execution_count": 2562,
   "id": "a455a6fd-6ed6-4776-abb2-37c4291fabce",
   "metadata": {},
   "outputs": [
    {
     "name": "stdout",
     "output_type": "stream",
     "text": [
      "<class 'pandas.core.frame.DataFrame'>\n",
      "RangeIndex: 50000 entries, 0 to 49999\n",
      "Data columns (total 13 columns):\n",
      " #   Column                Non-Null Count  Dtype  \n",
      "---  ------                --------------  -----  \n",
      " 0   youtube_investment    50000 non-null  float64\n",
      " 1   youtube_conversion    50000 non-null  int64  \n",
      " 2   instagram_investment  50000 non-null  float64\n",
      " 3   instagram_conversion  50000 non-null  int64  \n",
      " 4   google_investment     50000 non-null  float64\n",
      " 5   google_conversion     50000 non-null  int64  \n",
      " 6   newspaper_investment  50000 non-null  float64\n",
      " 7   newspaper_conversion  50000 non-null  int64  \n",
      " 8   youtube_sales         50000 non-null  float64\n",
      " 9   instagram_sales       50000 non-null  float64\n",
      " 10  google_sales          50000 non-null  float64\n",
      " 11  newspaper_sales       50000 non-null  float64\n",
      " 12  total_sales           50000 non-null  float64\n",
      "dtypes: float64(9), int64(4)\n",
      "memory usage: 5.0 MB\n"
     ]
    }
   ],
   "source": [
    "df_investments.info()"
   ]
  },
  {
   "cell_type": "code",
   "execution_count": 2564,
   "id": "2a4783ef-bd70-4a51-8458-de6a98c62e71",
   "metadata": {},
   "outputs": [],
   "source": [
    "filtered_data = df_investments[[\"google_investment\",\"google_conversion\",\"google_sales\",\"newspaper_investment\",\"newspaper_conversion\",\"newspaper_sales\"]]"
   ]
  },
  {
   "cell_type": "code",
   "execution_count": 2566,
   "id": "a06eea38-99ef-49f4-bb6f-c8906aa18f96",
   "metadata": {},
   "outputs": [
    {
     "data": {
      "text/html": [
       "<div>\n",
       "<style scoped>\n",
       "    .dataframe tbody tr th:only-of-type {\n",
       "        vertical-align: middle;\n",
       "    }\n",
       "\n",
       "    .dataframe tbody tr th {\n",
       "        vertical-align: top;\n",
       "    }\n",
       "\n",
       "    .dataframe thead th {\n",
       "        text-align: right;\n",
       "    }\n",
       "</style>\n",
       "<table border=\"1\" class=\"dataframe\">\n",
       "  <thead>\n",
       "    <tr style=\"text-align: right;\">\n",
       "      <th></th>\n",
       "      <th>google_investment</th>\n",
       "      <th>google_conversion</th>\n",
       "      <th>google_sales</th>\n",
       "      <th>newspaper_investment</th>\n",
       "      <th>newspaper_conversion</th>\n",
       "      <th>newspaper_sales</th>\n",
       "    </tr>\n",
       "  </thead>\n",
       "  <tbody>\n",
       "    <tr>\n",
       "      <th>0</th>\n",
       "      <td>66.101451</td>\n",
       "      <td>4</td>\n",
       "      <td>388.0</td>\n",
       "      <td>56.529545</td>\n",
       "      <td>4</td>\n",
       "      <td>388.0</td>\n",
       "    </tr>\n",
       "    <tr>\n",
       "      <th>1</th>\n",
       "      <td>147.239825</td>\n",
       "      <td>0</td>\n",
       "      <td>0.0</td>\n",
       "      <td>77.592848</td>\n",
       "      <td>7</td>\n",
       "      <td>679.0</td>\n",
       "    </tr>\n",
       "    <tr>\n",
       "      <th>2</th>\n",
       "      <td>448.582161</td>\n",
       "      <td>9</td>\n",
       "      <td>873.0</td>\n",
       "      <td>7.059979</td>\n",
       "      <td>0</td>\n",
       "      <td>0.0</td>\n",
       "    </tr>\n",
       "    <tr>\n",
       "      <th>3</th>\n",
       "      <td>293.582448</td>\n",
       "      <td>0</td>\n",
       "      <td>0.0</td>\n",
       "      <td>108.390371</td>\n",
       "      <td>6</td>\n",
       "      <td>582.0</td>\n",
       "    </tr>\n",
       "    <tr>\n",
       "      <th>4</th>\n",
       "      <td>44.106098</td>\n",
       "      <td>11</td>\n",
       "      <td>1067.0</td>\n",
       "      <td>31.623392</td>\n",
       "      <td>0</td>\n",
       "      <td>0.0</td>\n",
       "    </tr>\n",
       "  </tbody>\n",
       "</table>\n",
       "</div>"
      ],
      "text/plain": [
       "   google_investment  google_conversion  google_sales  newspaper_investment  \\\n",
       "0          66.101451                  4         388.0             56.529545   \n",
       "1         147.239825                  0           0.0             77.592848   \n",
       "2         448.582161                  9         873.0              7.059979   \n",
       "3         293.582448                  0           0.0            108.390371   \n",
       "4          44.106098                 11        1067.0             31.623392   \n",
       "\n",
       "   newspaper_conversion  newspaper_sales  \n",
       "0                     4            388.0  \n",
       "1                     7            679.0  \n",
       "2                     0              0.0  \n",
       "3                     6            582.0  \n",
       "4                     0              0.0  "
      ]
     },
     "execution_count": 2566,
     "metadata": {},
     "output_type": "execute_result"
    }
   ],
   "source": [
    "filtered_data.head()"
   ]
  },
  {
   "cell_type": "markdown",
   "id": "c0de61a0-8df9-4774-90aa-dd3794679299",
   "metadata": {},
   "source": [
    "# Treinamento do modelo"
   ]
  },
  {
   "cell_type": "code",
   "execution_count": 2569,
   "id": "11d53c71-92ba-477f-991a-bbf63b9ed8d6",
   "metadata": {},
   "outputs": [],
   "source": [
    "from sklearn.model_selection import train_test_split\n",
    "from sklearn.ensemble import RandomForestRegressor\n",
    "from sklearn.metrics import mean_squared_error"
   ]
  },
  {
   "cell_type": "code",
   "execution_count": 2571,
   "id": "ff429ef9-5eca-44b4-ade1-8f9b009ed734",
   "metadata": {},
   "outputs": [],
   "source": [
    "X = filtered_data[[\"google_investment\",\"newspaper_investment\"]]\n",
    "y = filtered_data[[\"google_conversion\",\"google_sales\",\"newspaper_conversion\",\"newspaper_sales\"]]"
   ]
  },
  {
   "cell_type": "code",
   "execution_count": 2573,
   "id": "bead741c-1ef1-40e0-bb49-d8c8fc6f6779",
   "metadata": {},
   "outputs": [],
   "source": [
    "X_train, X_test, y_train, y_test = train_test_split(X,y, test_size=0.4, random_state=42)"
   ]
  },
  {
   "cell_type": "code",
   "execution_count": 2575,
   "id": "923a80d2-04ed-4130-b1bc-ba652cbe3982",
   "metadata": {},
   "outputs": [
    {
     "data": {
      "text/html": [
       "<style>#sk-container-id-10 {\n",
       "  /* Definition of color scheme common for light and dark mode */\n",
       "  --sklearn-color-text: black;\n",
       "  --sklearn-color-line: gray;\n",
       "  /* Definition of color scheme for unfitted estimators */\n",
       "  --sklearn-color-unfitted-level-0: #fff5e6;\n",
       "  --sklearn-color-unfitted-level-1: #f6e4d2;\n",
       "  --sklearn-color-unfitted-level-2: #ffe0b3;\n",
       "  --sklearn-color-unfitted-level-3: chocolate;\n",
       "  /* Definition of color scheme for fitted estimators */\n",
       "  --sklearn-color-fitted-level-0: #f0f8ff;\n",
       "  --sklearn-color-fitted-level-1: #d4ebff;\n",
       "  --sklearn-color-fitted-level-2: #b3dbfd;\n",
       "  --sklearn-color-fitted-level-3: cornflowerblue;\n",
       "\n",
       "  /* Specific color for light theme */\n",
       "  --sklearn-color-text-on-default-background: var(--sg-text-color, var(--theme-code-foreground, var(--jp-content-font-color1, black)));\n",
       "  --sklearn-color-background: var(--sg-background-color, var(--theme-background, var(--jp-layout-color0, white)));\n",
       "  --sklearn-color-border-box: var(--sg-text-color, var(--theme-code-foreground, var(--jp-content-font-color1, black)));\n",
       "  --sklearn-color-icon: #696969;\n",
       "\n",
       "  @media (prefers-color-scheme: dark) {\n",
       "    /* Redefinition of color scheme for dark theme */\n",
       "    --sklearn-color-text-on-default-background: var(--sg-text-color, var(--theme-code-foreground, var(--jp-content-font-color1, white)));\n",
       "    --sklearn-color-background: var(--sg-background-color, var(--theme-background, var(--jp-layout-color0, #111)));\n",
       "    --sklearn-color-border-box: var(--sg-text-color, var(--theme-code-foreground, var(--jp-content-font-color1, white)));\n",
       "    --sklearn-color-icon: #878787;\n",
       "  }\n",
       "}\n",
       "\n",
       "#sk-container-id-10 {\n",
       "  color: var(--sklearn-color-text);\n",
       "}\n",
       "\n",
       "#sk-container-id-10 pre {\n",
       "  padding: 0;\n",
       "}\n",
       "\n",
       "#sk-container-id-10 input.sk-hidden--visually {\n",
       "  border: 0;\n",
       "  clip: rect(1px 1px 1px 1px);\n",
       "  clip: rect(1px, 1px, 1px, 1px);\n",
       "  height: 1px;\n",
       "  margin: -1px;\n",
       "  overflow: hidden;\n",
       "  padding: 0;\n",
       "  position: absolute;\n",
       "  width: 1px;\n",
       "}\n",
       "\n",
       "#sk-container-id-10 div.sk-dashed-wrapped {\n",
       "  border: 1px dashed var(--sklearn-color-line);\n",
       "  margin: 0 0.4em 0.5em 0.4em;\n",
       "  box-sizing: border-box;\n",
       "  padding-bottom: 0.4em;\n",
       "  background-color: var(--sklearn-color-background);\n",
       "}\n",
       "\n",
       "#sk-container-id-10 div.sk-container {\n",
       "  /* jupyter's `normalize.less` sets `[hidden] { display: none; }`\n",
       "     but bootstrap.min.css set `[hidden] { display: none !important; }`\n",
       "     so we also need the `!important` here to be able to override the\n",
       "     default hidden behavior on the sphinx rendered scikit-learn.org.\n",
       "     See: https://github.com/scikit-learn/scikit-learn/issues/21755 */\n",
       "  display: inline-block !important;\n",
       "  position: relative;\n",
       "}\n",
       "\n",
       "#sk-container-id-10 div.sk-text-repr-fallback {\n",
       "  display: none;\n",
       "}\n",
       "\n",
       "div.sk-parallel-item,\n",
       "div.sk-serial,\n",
       "div.sk-item {\n",
       "  /* draw centered vertical line to link estimators */\n",
       "  background-image: linear-gradient(var(--sklearn-color-text-on-default-background), var(--sklearn-color-text-on-default-background));\n",
       "  background-size: 2px 100%;\n",
       "  background-repeat: no-repeat;\n",
       "  background-position: center center;\n",
       "}\n",
       "\n",
       "/* Parallel-specific style estimator block */\n",
       "\n",
       "#sk-container-id-10 div.sk-parallel-item::after {\n",
       "  content: \"\";\n",
       "  width: 100%;\n",
       "  border-bottom: 2px solid var(--sklearn-color-text-on-default-background);\n",
       "  flex-grow: 1;\n",
       "}\n",
       "\n",
       "#sk-container-id-10 div.sk-parallel {\n",
       "  display: flex;\n",
       "  align-items: stretch;\n",
       "  justify-content: center;\n",
       "  background-color: var(--sklearn-color-background);\n",
       "  position: relative;\n",
       "}\n",
       "\n",
       "#sk-container-id-10 div.sk-parallel-item {\n",
       "  display: flex;\n",
       "  flex-direction: column;\n",
       "}\n",
       "\n",
       "#sk-container-id-10 div.sk-parallel-item:first-child::after {\n",
       "  align-self: flex-end;\n",
       "  width: 50%;\n",
       "}\n",
       "\n",
       "#sk-container-id-10 div.sk-parallel-item:last-child::after {\n",
       "  align-self: flex-start;\n",
       "  width: 50%;\n",
       "}\n",
       "\n",
       "#sk-container-id-10 div.sk-parallel-item:only-child::after {\n",
       "  width: 0;\n",
       "}\n",
       "\n",
       "/* Serial-specific style estimator block */\n",
       "\n",
       "#sk-container-id-10 div.sk-serial {\n",
       "  display: flex;\n",
       "  flex-direction: column;\n",
       "  align-items: center;\n",
       "  background-color: var(--sklearn-color-background);\n",
       "  padding-right: 1em;\n",
       "  padding-left: 1em;\n",
       "}\n",
       "\n",
       "\n",
       "/* Toggleable style: style used for estimator/Pipeline/ColumnTransformer box that is\n",
       "clickable and can be expanded/collapsed.\n",
       "- Pipeline and ColumnTransformer use this feature and define the default style\n",
       "- Estimators will overwrite some part of the style using the `sk-estimator` class\n",
       "*/\n",
       "\n",
       "/* Pipeline and ColumnTransformer style (default) */\n",
       "\n",
       "#sk-container-id-10 div.sk-toggleable {\n",
       "  /* Default theme specific background. It is overwritten whether we have a\n",
       "  specific estimator or a Pipeline/ColumnTransformer */\n",
       "  background-color: var(--sklearn-color-background);\n",
       "}\n",
       "\n",
       "/* Toggleable label */\n",
       "#sk-container-id-10 label.sk-toggleable__label {\n",
       "  cursor: pointer;\n",
       "  display: block;\n",
       "  width: 100%;\n",
       "  margin-bottom: 0;\n",
       "  padding: 0.5em;\n",
       "  box-sizing: border-box;\n",
       "  text-align: center;\n",
       "}\n",
       "\n",
       "#sk-container-id-10 label.sk-toggleable__label-arrow:before {\n",
       "  /* Arrow on the left of the label */\n",
       "  content: \"▸\";\n",
       "  float: left;\n",
       "  margin-right: 0.25em;\n",
       "  color: var(--sklearn-color-icon);\n",
       "}\n",
       "\n",
       "#sk-container-id-10 label.sk-toggleable__label-arrow:hover:before {\n",
       "  color: var(--sklearn-color-text);\n",
       "}\n",
       "\n",
       "/* Toggleable content - dropdown */\n",
       "\n",
       "#sk-container-id-10 div.sk-toggleable__content {\n",
       "  max-height: 0;\n",
       "  max-width: 0;\n",
       "  overflow: hidden;\n",
       "  text-align: left;\n",
       "  /* unfitted */\n",
       "  background-color: var(--sklearn-color-unfitted-level-0);\n",
       "}\n",
       "\n",
       "#sk-container-id-10 div.sk-toggleable__content.fitted {\n",
       "  /* fitted */\n",
       "  background-color: var(--sklearn-color-fitted-level-0);\n",
       "}\n",
       "\n",
       "#sk-container-id-10 div.sk-toggleable__content pre {\n",
       "  margin: 0.2em;\n",
       "  border-radius: 0.25em;\n",
       "  color: var(--sklearn-color-text);\n",
       "  /* unfitted */\n",
       "  background-color: var(--sklearn-color-unfitted-level-0);\n",
       "}\n",
       "\n",
       "#sk-container-id-10 div.sk-toggleable__content.fitted pre {\n",
       "  /* unfitted */\n",
       "  background-color: var(--sklearn-color-fitted-level-0);\n",
       "}\n",
       "\n",
       "#sk-container-id-10 input.sk-toggleable__control:checked~div.sk-toggleable__content {\n",
       "  /* Expand drop-down */\n",
       "  max-height: 200px;\n",
       "  max-width: 100%;\n",
       "  overflow: auto;\n",
       "}\n",
       "\n",
       "#sk-container-id-10 input.sk-toggleable__control:checked~label.sk-toggleable__label-arrow:before {\n",
       "  content: \"▾\";\n",
       "}\n",
       "\n",
       "/* Pipeline/ColumnTransformer-specific style */\n",
       "\n",
       "#sk-container-id-10 div.sk-label input.sk-toggleable__control:checked~label.sk-toggleable__label {\n",
       "  color: var(--sklearn-color-text);\n",
       "  background-color: var(--sklearn-color-unfitted-level-2);\n",
       "}\n",
       "\n",
       "#sk-container-id-10 div.sk-label.fitted input.sk-toggleable__control:checked~label.sk-toggleable__label {\n",
       "  background-color: var(--sklearn-color-fitted-level-2);\n",
       "}\n",
       "\n",
       "/* Estimator-specific style */\n",
       "\n",
       "/* Colorize estimator box */\n",
       "#sk-container-id-10 div.sk-estimator input.sk-toggleable__control:checked~label.sk-toggleable__label {\n",
       "  /* unfitted */\n",
       "  background-color: var(--sklearn-color-unfitted-level-2);\n",
       "}\n",
       "\n",
       "#sk-container-id-10 div.sk-estimator.fitted input.sk-toggleable__control:checked~label.sk-toggleable__label {\n",
       "  /* fitted */\n",
       "  background-color: var(--sklearn-color-fitted-level-2);\n",
       "}\n",
       "\n",
       "#sk-container-id-10 div.sk-label label.sk-toggleable__label,\n",
       "#sk-container-id-10 div.sk-label label {\n",
       "  /* The background is the default theme color */\n",
       "  color: var(--sklearn-color-text-on-default-background);\n",
       "}\n",
       "\n",
       "/* On hover, darken the color of the background */\n",
       "#sk-container-id-10 div.sk-label:hover label.sk-toggleable__label {\n",
       "  color: var(--sklearn-color-text);\n",
       "  background-color: var(--sklearn-color-unfitted-level-2);\n",
       "}\n",
       "\n",
       "/* Label box, darken color on hover, fitted */\n",
       "#sk-container-id-10 div.sk-label.fitted:hover label.sk-toggleable__label.fitted {\n",
       "  color: var(--sklearn-color-text);\n",
       "  background-color: var(--sklearn-color-fitted-level-2);\n",
       "}\n",
       "\n",
       "/* Estimator label */\n",
       "\n",
       "#sk-container-id-10 div.sk-label label {\n",
       "  font-family: monospace;\n",
       "  font-weight: bold;\n",
       "  display: inline-block;\n",
       "  line-height: 1.2em;\n",
       "}\n",
       "\n",
       "#sk-container-id-10 div.sk-label-container {\n",
       "  text-align: center;\n",
       "}\n",
       "\n",
       "/* Estimator-specific */\n",
       "#sk-container-id-10 div.sk-estimator {\n",
       "  font-family: monospace;\n",
       "  border: 1px dotted var(--sklearn-color-border-box);\n",
       "  border-radius: 0.25em;\n",
       "  box-sizing: border-box;\n",
       "  margin-bottom: 0.5em;\n",
       "  /* unfitted */\n",
       "  background-color: var(--sklearn-color-unfitted-level-0);\n",
       "}\n",
       "\n",
       "#sk-container-id-10 div.sk-estimator.fitted {\n",
       "  /* fitted */\n",
       "  background-color: var(--sklearn-color-fitted-level-0);\n",
       "}\n",
       "\n",
       "/* on hover */\n",
       "#sk-container-id-10 div.sk-estimator:hover {\n",
       "  /* unfitted */\n",
       "  background-color: var(--sklearn-color-unfitted-level-2);\n",
       "}\n",
       "\n",
       "#sk-container-id-10 div.sk-estimator.fitted:hover {\n",
       "  /* fitted */\n",
       "  background-color: var(--sklearn-color-fitted-level-2);\n",
       "}\n",
       "\n",
       "/* Specification for estimator info (e.g. \"i\" and \"?\") */\n",
       "\n",
       "/* Common style for \"i\" and \"?\" */\n",
       "\n",
       ".sk-estimator-doc-link,\n",
       "a:link.sk-estimator-doc-link,\n",
       "a:visited.sk-estimator-doc-link {\n",
       "  float: right;\n",
       "  font-size: smaller;\n",
       "  line-height: 1em;\n",
       "  font-family: monospace;\n",
       "  background-color: var(--sklearn-color-background);\n",
       "  border-radius: 1em;\n",
       "  height: 1em;\n",
       "  width: 1em;\n",
       "  text-decoration: none !important;\n",
       "  margin-left: 1ex;\n",
       "  /* unfitted */\n",
       "  border: var(--sklearn-color-unfitted-level-1) 1pt solid;\n",
       "  color: var(--sklearn-color-unfitted-level-1);\n",
       "}\n",
       "\n",
       ".sk-estimator-doc-link.fitted,\n",
       "a:link.sk-estimator-doc-link.fitted,\n",
       "a:visited.sk-estimator-doc-link.fitted {\n",
       "  /* fitted */\n",
       "  border: var(--sklearn-color-fitted-level-1) 1pt solid;\n",
       "  color: var(--sklearn-color-fitted-level-1);\n",
       "}\n",
       "\n",
       "/* On hover */\n",
       "div.sk-estimator:hover .sk-estimator-doc-link:hover,\n",
       ".sk-estimator-doc-link:hover,\n",
       "div.sk-label-container:hover .sk-estimator-doc-link:hover,\n",
       ".sk-estimator-doc-link:hover {\n",
       "  /* unfitted */\n",
       "  background-color: var(--sklearn-color-unfitted-level-3);\n",
       "  color: var(--sklearn-color-background);\n",
       "  text-decoration: none;\n",
       "}\n",
       "\n",
       "div.sk-estimator.fitted:hover .sk-estimator-doc-link.fitted:hover,\n",
       ".sk-estimator-doc-link.fitted:hover,\n",
       "div.sk-label-container:hover .sk-estimator-doc-link.fitted:hover,\n",
       ".sk-estimator-doc-link.fitted:hover {\n",
       "  /* fitted */\n",
       "  background-color: var(--sklearn-color-fitted-level-3);\n",
       "  color: var(--sklearn-color-background);\n",
       "  text-decoration: none;\n",
       "}\n",
       "\n",
       "/* Span, style for the box shown on hovering the info icon */\n",
       ".sk-estimator-doc-link span {\n",
       "  display: none;\n",
       "  z-index: 9999;\n",
       "  position: relative;\n",
       "  font-weight: normal;\n",
       "  right: .2ex;\n",
       "  padding: .5ex;\n",
       "  margin: .5ex;\n",
       "  width: min-content;\n",
       "  min-width: 20ex;\n",
       "  max-width: 50ex;\n",
       "  color: var(--sklearn-color-text);\n",
       "  box-shadow: 2pt 2pt 4pt #999;\n",
       "  /* unfitted */\n",
       "  background: var(--sklearn-color-unfitted-level-0);\n",
       "  border: .5pt solid var(--sklearn-color-unfitted-level-3);\n",
       "}\n",
       "\n",
       ".sk-estimator-doc-link.fitted span {\n",
       "  /* fitted */\n",
       "  background: var(--sklearn-color-fitted-level-0);\n",
       "  border: var(--sklearn-color-fitted-level-3);\n",
       "}\n",
       "\n",
       ".sk-estimator-doc-link:hover span {\n",
       "  display: block;\n",
       "}\n",
       "\n",
       "/* \"?\"-specific style due to the `<a>` HTML tag */\n",
       "\n",
       "#sk-container-id-10 a.estimator_doc_link {\n",
       "  float: right;\n",
       "  font-size: 1rem;\n",
       "  line-height: 1em;\n",
       "  font-family: monospace;\n",
       "  background-color: var(--sklearn-color-background);\n",
       "  border-radius: 1rem;\n",
       "  height: 1rem;\n",
       "  width: 1rem;\n",
       "  text-decoration: none;\n",
       "  /* unfitted */\n",
       "  color: var(--sklearn-color-unfitted-level-1);\n",
       "  border: var(--sklearn-color-unfitted-level-1) 1pt solid;\n",
       "}\n",
       "\n",
       "#sk-container-id-10 a.estimator_doc_link.fitted {\n",
       "  /* fitted */\n",
       "  border: var(--sklearn-color-fitted-level-1) 1pt solid;\n",
       "  color: var(--sklearn-color-fitted-level-1);\n",
       "}\n",
       "\n",
       "/* On hover */\n",
       "#sk-container-id-10 a.estimator_doc_link:hover {\n",
       "  /* unfitted */\n",
       "  background-color: var(--sklearn-color-unfitted-level-3);\n",
       "  color: var(--sklearn-color-background);\n",
       "  text-decoration: none;\n",
       "}\n",
       "\n",
       "#sk-container-id-10 a.estimator_doc_link.fitted:hover {\n",
       "  /* fitted */\n",
       "  background-color: var(--sklearn-color-fitted-level-3);\n",
       "}\n",
       "</style><div id=\"sk-container-id-10\" class=\"sk-top-container\"><div class=\"sk-text-repr-fallback\"><pre>RandomForestRegressor(max_depth=10, n_estimators=200, random_state=42)</pre><b>In a Jupyter environment, please rerun this cell to show the HTML representation or trust the notebook. <br />On GitHub, the HTML representation is unable to render, please try loading this page with nbviewer.org.</b></div><div class=\"sk-container\" hidden><div class=\"sk-item\"><div class=\"sk-estimator fitted sk-toggleable\"><input class=\"sk-toggleable__control sk-hidden--visually\" id=\"sk-estimator-id-10\" type=\"checkbox\" checked><label for=\"sk-estimator-id-10\" class=\"sk-toggleable__label fitted sk-toggleable__label-arrow fitted\">&nbsp;&nbsp;RandomForestRegressor<a class=\"sk-estimator-doc-link fitted\" rel=\"noreferrer\" target=\"_blank\" href=\"https://scikit-learn.org/1.4/modules/generated/sklearn.ensemble.RandomForestRegressor.html\">?<span>Documentation for RandomForestRegressor</span></a><span class=\"sk-estimator-doc-link fitted\">i<span>Fitted</span></span></label><div class=\"sk-toggleable__content fitted\"><pre>RandomForestRegressor(max_depth=10, n_estimators=200, random_state=42)</pre></div> </div></div></div></div>"
      ],
      "text/plain": [
       "RandomForestRegressor(max_depth=10, n_estimators=200, random_state=42)"
      ]
     },
     "execution_count": 2575,
     "metadata": {},
     "output_type": "execute_result"
    }
   ],
   "source": [
    "model = RandomForestRegressor(random_state=42, n_estimators=200, max_depth=10)\n",
    "model.fit(X_train, y_train)"
   ]
  },
  {
   "cell_type": "code",
   "execution_count": 2576,
   "id": "6babdcf5-c3aa-4ed4-9ecf-fbeb11322d06",
   "metadata": {},
   "outputs": [
    {
     "name": "stdout",
     "output_type": "stream",
     "text": [
      "Mean Squared Eror (Para cada saída):  [2.39399581e+01 2.25251066e+05 2.39931929e+01 2.25751952e+05]\n"
     ]
    }
   ],
   "source": [
    "y_pred = model.predict(X_test)\n",
    "mse = mean_squared_error(y_test, y_pred, multioutput='raw_values')\n",
    "print(\"Mean Squared Eror (Para cada saída): \", mse)"
   ]
  },
  {
   "cell_type": "markdown",
   "id": "54ead59e-58fb-4c8e-8a1a-150082fd6ef5",
   "metadata": {},
   "source": [
    "# Output:"
   ]
  },
  {
   "cell_type": "code",
   "execution_count": 2578,
   "id": "5aba5639-88c6-4a57-9034-79fe24043a3a",
   "metadata": {},
   "outputs": [],
   "source": [
    "user_input = pd.DataFrame({\n",
    "    \"google_investment\": [1000],\n",
    "    \"newspaper_investment\": [1000]\n",
    "})"
   ]
  },
  {
   "cell_type": "code",
   "execution_count": 2579,
   "id": "9916000f-4e3c-41c1-a84e-100d483f0939",
   "metadata": {},
   "outputs": [],
   "source": [
    "predictions = model.predict(user_input)"
   ]
  },
  {
   "cell_type": "code",
   "execution_count": 2580,
   "id": "0d6dd02e-30e9-4f43-94f3-61de1d080085",
   "metadata": {},
   "outputs": [],
   "source": [
    "resultado_for_user = pd.DataFrame(predictions, columns=[\n",
    "    \"google_conversion\",\n",
    "    \"google_sales\",\n",
    "    \"newspaper_conversion\",\n",
    "    \"newspaper_sales\"\n",
    "])"
   ]
  },
  {
   "cell_type": "code",
   "execution_count": 2581,
   "id": "0860c1e6-a967-4070-9d6d-8fb1ef815980",
   "metadata": {},
   "outputs": [
    {
     "name": "stdout",
     "output_type": "stream",
     "text": [
      "Resultado para os investimentos: \n",
      "   google_conversion  google_sales  newspaper_conversion  newspaper_sales\n",
      "0           9.006891    873.668472             11.642557      1129.328019\n"
     ]
    }
   ],
   "source": [
    "print(\"Resultado para os investimentos: \")\n",
    "print(resultado_for_user)"
   ]
  }
 ],
 "metadata": {
  "kernelspec": {
   "display_name": "Python 3 (ipykernel)",
   "language": "python",
   "name": "python3"
  },
  "language_info": {
   "codemirror_mode": {
    "name": "ipython",
    "version": 3
   },
   "file_extension": ".py",
   "mimetype": "text/x-python",
   "name": "python",
   "nbconvert_exporter": "python",
   "pygments_lexer": "ipython3",
   "version": "3.12.4"
  }
 },
 "nbformat": 4,
 "nbformat_minor": 5
}
